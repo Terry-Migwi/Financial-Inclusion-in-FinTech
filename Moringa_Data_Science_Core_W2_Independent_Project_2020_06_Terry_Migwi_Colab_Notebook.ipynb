{
  "nbformat": 4,
  "nbformat_minor": 0,
  "metadata": {
    "colab": {
      "name": "Moringa_Data_Science_Core_W2_Independent_Project_2020_06_Terry_Migwi_Colab_Notebook",
      "provenance": [],
      "collapsed_sections": [
        "cp-IVyWQzsIP",
        "tTxF2BZ101wf",
        "uB7w2j1t1C-3",
        "ptVGbyqTuipo",
        "KyxnnNO9yYc-",
        "1kQDVqtg0tZX",
        "lubPdGaZ0yKg",
        "OU32cWeY04rC",
        "4QBeP4Ug4nrg",
        "Q_hDYD7KAU1E",
        "mPZtu8qYAYta",
        "jq7WpUWiAjMP",
        "WnCYUA3lAzCt",
        "5MeKQDo1A98s",
        "Gs_siV4eA_JA",
        "kC8pzcs75mTd",
        "taS-Xtrp6ZPK",
        "dQjbyjOOFIgF",
        "2ku2aBcpHGDA",
        "uDBwA6uWEP_n",
        "5eI-Zj03E-c1",
        "iSj6pTdIFQCF",
        "SHq5X1R1F4Ls",
        "pSiotbKYGME2"
      ],
      "authorship_tag": "ABX9TyMFRkFQ0+XbsBahrS2IqXNd",
      "include_colab_link": true
    },
    "kernelspec": {
      "name": "python3",
      "display_name": "Python 3"
    }
  },
  "cells": [
    {
      "cell_type": "markdown",
      "metadata": {
        "id": "view-in-github",
        "colab_type": "text"
      },
      "source": [
        "<a href=\"https://colab.research.google.com/github/Terry-Migwi/Moringa_Data_Science_Core_W2_Independent_Project_2020_06_Terry_Migwi_Colab_Notebook/blob/master/Moringa_Data_Science_Core_W2_Independent_Project_2020_06_Terry_Migwi_Colab_Notebook.ipynb\" target=\"_parent\"><img src=\"https://colab.research.google.com/assets/colab-badge.svg\" alt=\"Open In Colab\"/></a>"
      ]
    },
    {
      "cell_type": "markdown",
      "metadata": {
        "id": "73xRvnAzyDz0",
        "colab_type": "text"
      },
      "source": [
        "Financial Inclusion remains one of the main obstacles to economic and human development in Africa. For example, across Kenya, Rwanda, Tanzania, and Uganda only 9.1 million adults (or 13.9% of the adult population) have access to or use a commercial bank account.\n",
        "\n",
        "Traditionally, access to bank accounts has been regarded as an indicator of financial inclusion. Despite the proliferation of mobile money in Africa and the growth of innovative fintech solutions, banks still play a pivotal role in facilitating access to financial services. Access to bank accounts enables households to save and facilitate payments while also helping businesses build up their credit-worthiness and improve their access to other financial services. Therefore, access to bank accounts is an essential contributor to long-term economic growth\n",
        "\n",
        "The research problem is to figure out how we can predict which individuals are most likely to have or use a bank account. Your solution will help provide an indication of the state of financial inclusion in Kenya, Rwanda, Tanzania, and Uganda, while providing insights into some of the key demographic factors that might drive individuals’ financial outcomes"
      ]
    },
    {
      "cell_type": "markdown",
      "metadata": {
        "id": "wLZgSqiVmzDl",
        "colab_type": "text"
      },
      "source": [
        "1. UNIVARIATE ANALYSIS"
      ]
    },
    {
      "cell_type": "markdown",
      "metadata": {
        "id": "wj1LZRT2nWME",
        "colab_type": "text"
      },
      "source": [
        "####1. Defining the Question"
      ]
    },
    {
      "cell_type": "markdown",
      "metadata": {
        "id": "G68vAeW7njOO",
        "colab_type": "text"
      },
      "source": [
        "###a) Specifying the Data Analytic Question"
      ]
    },
    {
      "cell_type": "markdown",
      "metadata": {
        "id": "evPOC0ainj0D",
        "colab_type": "text"
      },
      "source": [
        "Which country has the highest number of individuals who are 40 years and below with/use a bank account? "
      ]
    },
    {
      "cell_type": "markdown",
      "metadata": {
        "id": "z2uri2x6wzgy",
        "colab_type": "text"
      },
      "source": [
        "###b) Define the Metric for Success\n",
        "\n"
      ]
    },
    {
      "cell_type": "markdown",
      "metadata": {
        "id": "UOoMVtLDTow-",
        "colab_type": "text"
      },
      "source": [
        "a) Rank the countries in order of the one with the highest number of individuals who have bank accounts\n",
        "\n",
        "b) Create a list of individuals who are 40 years and below in this country\n",
        "\n",
        "c) Observe the age, gender and level of education for these individuals"
      ]
    },
    {
      "cell_type": "markdown",
      "metadata": {
        "id": "04wu8wy-wAAS",
        "colab_type": "text"
      },
      "source": [
        "###c) Understanding the Context"
      ]
    },
    {
      "cell_type": "markdown",
      "metadata": {
        "id": "9H92IV5yWVTD",
        "colab_type": "text"
      },
      "source": [
        "Financial inclusion is an essential contributor to long term economic growth. One strong indicator of financial inclusion is access to a bank account. This means that the more individuals who have access to a bank account in a country, the more promising it is to the economic growth of this country. For this reason, I would like to find out which country in East Africa has higher chances of growing its economy as a result of financial inclusion and what are some of the key features that influence financial inclusion.   "
      ]
    },
    {
      "cell_type": "markdown",
      "metadata": {
        "id": "5PyszxytwIlq",
        "colab_type": "text"
      },
      "source": [
        "###d) Recording the Experimental Design\n"
      ]
    },
    {
      "cell_type": "markdown",
      "metadata": {
        "id": "5gY1s7alwRbz",
        "colab_type": "text"
      },
      "source": [
        "###e) Data Relevance"
      ]
    },
    {
      "cell_type": "markdown",
      "metadata": {
        "id": "hZ5YhEIuZPOb",
        "colab_type": "text"
      },
      "source": [
        "The data at hand is a sample of individuals from some countries in East Africa i.e Kenya, Rwanda, Tanzania and Uganda and their status on access to a bank account along with some key demographic factors that might drive the individual's financial outcome. The data seems to be adequate for my research question. "
      ]
    },
    {
      "cell_type": "markdown",
      "metadata": {
        "id": "jR_zcK4FyH4j",
        "colab_type": "text"
      },
      "source": [
        "##2) Reading the Data"
      ]
    },
    {
      "cell_type": "code",
      "metadata": {
        "id": "NjUu3OPNwQ06",
        "colab_type": "code",
        "colab": {}
      },
      "source": [
        "#importing libraries that will be useful for our analysis\n",
        "import pandas as pd\n",
        "import numpy as np\n",
        "import matplotlib.pyplot as plt\n",
        "import seaborn as sns\n",
        "\n",
        "sns.set_style()"
      ],
      "execution_count": null,
      "outputs": []
    },
    {
      "cell_type": "code",
      "metadata": {
        "id": "5WWX4FrhmwdY",
        "colab_type": "code",
        "colab": {}
      },
      "source": [
        "#loading the dataset \n",
        "#url =  http://bit.ly/FinancialDataset\n",
        "financialdata_df = pd.read_csv(\"/content/Financial Dataset - 1.csv\")"
      ],
      "execution_count": null,
      "outputs": []
    },
    {
      "cell_type": "markdown",
      "metadata": {
        "id": "cp-IVyWQzsIP",
        "colab_type": "text"
      },
      "source": [
        "##3) Checking the data"
      ]
    },
    {
      "cell_type": "code",
      "metadata": {
        "id": "i-n3m2SV0Vyn",
        "colab_type": "code",
        "colab": {
          "base_uri": "https://localhost:8080/",
          "height": 34
        },
        "outputId": "9639e6da-7a4e-4d29-c5ff-39162ecf5de7"
      },
      "source": [
        "#checking the number of records in our data\n",
        "financialdata_df.shape"
      ],
      "execution_count": null,
      "outputs": [
        {
          "output_type": "execute_result",
          "data": {
            "text/plain": [
              "(23524, 13)"
            ]
          },
          "metadata": {
            "tags": []
          },
          "execution_count": 396
        }
      ]
    },
    {
      "cell_type": "code",
      "metadata": {
        "id": "hJS4X6bgx8lB",
        "colab_type": "code",
        "colab": {
          "base_uri": "https://localhost:8080/",
          "height": 257
        },
        "outputId": "f95148f1-1a57-47a0-fb40-d033255f5b29"
      },
      "source": [
        "#previewing the head\n",
        "financialdata_df.head(3)"
      ],
      "execution_count": null,
      "outputs": [
        {
          "output_type": "execute_result",
          "data": {
            "text/html": [
              "<div>\n",
              "<style scoped>\n",
              "    .dataframe tbody tr th:only-of-type {\n",
              "        vertical-align: middle;\n",
              "    }\n",
              "\n",
              "    .dataframe tbody tr th {\n",
              "        vertical-align: top;\n",
              "    }\n",
              "\n",
              "    .dataframe thead th {\n",
              "        text-align: right;\n",
              "    }\n",
              "</style>\n",
              "<table border=\"1\" class=\"dataframe\">\n",
              "  <thead>\n",
              "    <tr style=\"text-align: right;\">\n",
              "      <th></th>\n",
              "      <th>country</th>\n",
              "      <th>year</th>\n",
              "      <th>uniqueid</th>\n",
              "      <th>Has a Bank account</th>\n",
              "      <th>Type of Location</th>\n",
              "      <th>Cell Phone Access</th>\n",
              "      <th>household_size</th>\n",
              "      <th>Respondent Age</th>\n",
              "      <th>gender_of_respondent</th>\n",
              "      <th>The relathip with head</th>\n",
              "      <th>marital_status</th>\n",
              "      <th>Level of Educuation</th>\n",
              "      <th>Type of Job</th>\n",
              "    </tr>\n",
              "  </thead>\n",
              "  <tbody>\n",
              "    <tr>\n",
              "      <th>0</th>\n",
              "      <td>Kenya</td>\n",
              "      <td>2018</td>\n",
              "      <td>uniqueid_1</td>\n",
              "      <td>Yes</td>\n",
              "      <td>Rural</td>\n",
              "      <td>Yes</td>\n",
              "      <td>3.0</td>\n",
              "      <td>24.0</td>\n",
              "      <td>Female</td>\n",
              "      <td>Spouse</td>\n",
              "      <td>Married/Living together</td>\n",
              "      <td>Secondary education</td>\n",
              "      <td>Self employed</td>\n",
              "    </tr>\n",
              "    <tr>\n",
              "      <th>1</th>\n",
              "      <td>Kenya</td>\n",
              "      <td>2018</td>\n",
              "      <td>uniqueid_2</td>\n",
              "      <td>No</td>\n",
              "      <td>Rural</td>\n",
              "      <td>No</td>\n",
              "      <td>5.0</td>\n",
              "      <td>70.0</td>\n",
              "      <td>Female</td>\n",
              "      <td>Head of Household</td>\n",
              "      <td>Widowed</td>\n",
              "      <td>No formal education</td>\n",
              "      <td>Government Dependent</td>\n",
              "    </tr>\n",
              "    <tr>\n",
              "      <th>2</th>\n",
              "      <td>Kenya</td>\n",
              "      <td>2018</td>\n",
              "      <td>uniqueid_3</td>\n",
              "      <td>Yes</td>\n",
              "      <td>Urban</td>\n",
              "      <td>Yes</td>\n",
              "      <td>5.0</td>\n",
              "      <td>26.0</td>\n",
              "      <td>Male</td>\n",
              "      <td>Other relative</td>\n",
              "      <td>Single/Never Married</td>\n",
              "      <td>Vocational/Specialised training</td>\n",
              "      <td>Self employed</td>\n",
              "    </tr>\n",
              "  </tbody>\n",
              "</table>\n",
              "</div>"
            ],
            "text/plain": [
              "  country  year  ...              Level of Educuation           Type of Job\n",
              "0   Kenya  2018  ...              Secondary education         Self employed\n",
              "1   Kenya  2018  ...              No formal education  Government Dependent\n",
              "2   Kenya  2018  ...  Vocational/Specialised training         Self employed\n",
              "\n",
              "[3 rows x 13 columns]"
            ]
          },
          "metadata": {
            "tags": []
          },
          "execution_count": 397
        }
      ]
    },
    {
      "cell_type": "code",
      "metadata": {
        "id": "mvDo3tJez_sF",
        "colab_type": "code",
        "colab": {
          "base_uri": "https://localhost:8080/",
          "height": 257
        },
        "outputId": "c4263438-b4e3-4787-c131-bfa712c6ed5a"
      },
      "source": [
        "#previewing the tail\n",
        "financialdata_df.tail(3)"
      ],
      "execution_count": null,
      "outputs": [
        {
          "output_type": "execute_result",
          "data": {
            "text/html": [
              "<div>\n",
              "<style scoped>\n",
              "    .dataframe tbody tr th:only-of-type {\n",
              "        vertical-align: middle;\n",
              "    }\n",
              "\n",
              "    .dataframe tbody tr th {\n",
              "        vertical-align: top;\n",
              "    }\n",
              "\n",
              "    .dataframe thead th {\n",
              "        text-align: right;\n",
              "    }\n",
              "</style>\n",
              "<table border=\"1\" class=\"dataframe\">\n",
              "  <thead>\n",
              "    <tr style=\"text-align: right;\">\n",
              "      <th></th>\n",
              "      <th>country</th>\n",
              "      <th>year</th>\n",
              "      <th>uniqueid</th>\n",
              "      <th>Has a Bank account</th>\n",
              "      <th>Type of Location</th>\n",
              "      <th>Cell Phone Access</th>\n",
              "      <th>household_size</th>\n",
              "      <th>Respondent Age</th>\n",
              "      <th>gender_of_respondent</th>\n",
              "      <th>The relathip with head</th>\n",
              "      <th>marital_status</th>\n",
              "      <th>Level of Educuation</th>\n",
              "      <th>Type of Job</th>\n",
              "    </tr>\n",
              "  </thead>\n",
              "  <tbody>\n",
              "    <tr>\n",
              "      <th>23521</th>\n",
              "      <td>Uganda</td>\n",
              "      <td>2018</td>\n",
              "      <td>uniqueid_2115</td>\n",
              "      <td>No</td>\n",
              "      <td>Rural</td>\n",
              "      <td>Yes</td>\n",
              "      <td>5.0</td>\n",
              "      <td>27.0</td>\n",
              "      <td>Female</td>\n",
              "      <td>Parent</td>\n",
              "      <td>Widowed</td>\n",
              "      <td>Primary education</td>\n",
              "      <td>Other Income</td>\n",
              "    </tr>\n",
              "    <tr>\n",
              "      <th>23522</th>\n",
              "      <td>Uganda</td>\n",
              "      <td>2018</td>\n",
              "      <td>uniqueid_2116</td>\n",
              "      <td>No</td>\n",
              "      <td>Urban</td>\n",
              "      <td>Yes</td>\n",
              "      <td>7.0</td>\n",
              "      <td>30.0</td>\n",
              "      <td>Female</td>\n",
              "      <td>Parent</td>\n",
              "      <td>Divorced/Seperated</td>\n",
              "      <td>Secondary education</td>\n",
              "      <td>Self employed</td>\n",
              "    </tr>\n",
              "    <tr>\n",
              "      <th>23523</th>\n",
              "      <td>Uganda</td>\n",
              "      <td>2018</td>\n",
              "      <td>uniqueid_2117</td>\n",
              "      <td>No</td>\n",
              "      <td>Rural</td>\n",
              "      <td>Yes</td>\n",
              "      <td>10.0</td>\n",
              "      <td>20.0</td>\n",
              "      <td>Male</td>\n",
              "      <td>Child</td>\n",
              "      <td>Single/Never Married</td>\n",
              "      <td>Secondary education</td>\n",
              "      <td>No Income</td>\n",
              "    </tr>\n",
              "  </tbody>\n",
              "</table>\n",
              "</div>"
            ],
            "text/plain": [
              "      country  year  ...  Level of Educuation    Type of Job\n",
              "23521  Uganda  2018  ...    Primary education   Other Income\n",
              "23522  Uganda  2018  ...  Secondary education  Self employed\n",
              "23523  Uganda  2018  ...  Secondary education      No Income\n",
              "\n",
              "[3 rows x 13 columns]"
            ]
          },
          "metadata": {
            "tags": []
          },
          "execution_count": 398
        }
      ]
    },
    {
      "cell_type": "code",
      "metadata": {
        "id": "Lj_g0cV10MSQ",
        "colab_type": "code",
        "colab": {
          "base_uri": "https://localhost:8080/",
          "height": 252
        },
        "outputId": "4eb7469f-87ee-4d36-974d-10c21a7e5072"
      },
      "source": [
        "#checking whether each column has an appropriate data type\n",
        "financialdata_df.dtypes"
      ],
      "execution_count": null,
      "outputs": [
        {
          "output_type": "execute_result",
          "data": {
            "text/plain": [
              "country                    object\n",
              "year                        int64\n",
              "uniqueid                   object\n",
              "Has a Bank account         object\n",
              "Type of Location           object\n",
              "Cell Phone Access          object\n",
              "household_size            float64\n",
              "Respondent Age            float64\n",
              "gender_of_respondent       object\n",
              "The relathip with head     object\n",
              "marital_status             object\n",
              "Level of Educuation        object\n",
              "Type of Job                object\n",
              "dtype: object"
            ]
          },
          "metadata": {
            "tags": []
          },
          "execution_count": 399
        }
      ]
    },
    {
      "cell_type": "markdown",
      "metadata": {
        "id": "tTxF2BZ101wf",
        "colab_type": "text"
      },
      "source": [
        "##4) External DataSource Validation"
      ]
    },
    {
      "cell_type": "code",
      "metadata": {
        "id": "TRgFTrNntU7s",
        "colab_type": "code",
        "colab": {
          "base_uri": "https://localhost:8080/"
        },
        "outputId": "0179ca00-3813-4667-a8bd-dbe01eabf634"
      },
      "source": [
        "financialdata_df1['respondent_age'].min()"
      ],
      "execution_count": null,
      "outputs": [
        {
          "output_type": "execute_result",
          "data": {
            "text/plain": [
              "16.0"
            ]
          },
          "metadata": {
            "tags": []
          },
          "execution_count": 400
        }
      ]
    },
    {
      "cell_type": "markdown",
      "metadata": {
        "id": "5lgv2wcTgvX9",
        "colab_type": "text"
      },
      "source": [
        "According to the World bank Africa, the age of individuals with access to a formal financial institution account is 15+. From our data, the minimum age of the respondents is 16 hence can accept our data as valid."
      ]
    },
    {
      "cell_type": "markdown",
      "metadata": {
        "id": "uB7w2j1t1C-3",
        "colab_type": "text"
      },
      "source": [
        "##5)Tidying the Datasource "
      ]
    },
    {
      "cell_type": "code",
      "metadata": {
        "id": "n-6doXAv0xk4",
        "colab_type": "code",
        "colab": {
          "base_uri": "https://localhost:8080/",
          "height": 101
        },
        "outputId": "a5c0cfe3-7e02-45a9-95da-6492cb4123ce"
      },
      "source": [
        "#fixing messy column names\n",
        "financialdata_df.columns = financialdata_df.columns.str.lower().str.replace(' ','_')\n",
        "financialdata_df.columns"
      ],
      "execution_count": null,
      "outputs": [
        {
          "output_type": "execute_result",
          "data": {
            "text/plain": [
              "Index(['country', 'year', 'uniqueid', 'has_a_bank_account', 'type_of_location',\n",
              "       'cell_phone_access', 'household_size', 'respondent_age',\n",
              "       'gender_of_respondent', 'the_relathip_with_head', 'marital_status',\n",
              "       'level_of_educuation', 'type_of_job'],\n",
              "      dtype='object')"
            ]
          },
          "metadata": {
            "tags": []
          },
          "execution_count": 401
        }
      ]
    },
    {
      "cell_type": "code",
      "metadata": {
        "id": "q-M4lYYSiaHS",
        "colab_type": "code",
        "colab": {
          "base_uri": "https://localhost:8080/",
          "height": 101
        },
        "outputId": "c888ee60-69bc-47c3-f08a-846bf28e31f9"
      },
      "source": [
        "#correcting misspelt column names\n",
        "financialdata_df = financialdata_df.rename(columns = {'the_relathip_with_head':'the_relationship_with_head','level_of_educuation':'level_of_education'})\n",
        "financialdata_df.columns"
      ],
      "execution_count": null,
      "outputs": [
        {
          "output_type": "execute_result",
          "data": {
            "text/plain": [
              "Index(['country', 'year', 'uniqueid', 'has_a_bank_account', 'type_of_location',\n",
              "       'cell_phone_access', 'household_size', 'respondent_age',\n",
              "       'gender_of_respondent', 'the_relationship_with_head', 'marital_status',\n",
              "       'level_of_education', 'type_of_job'],\n",
              "      dtype='object')"
            ]
          },
          "metadata": {
            "tags": []
          },
          "execution_count": 402
        }
      ]
    },
    {
      "cell_type": "code",
      "metadata": {
        "id": "58FbVnMd1MS3",
        "colab_type": "code",
        "colab": {
          "base_uri": "https://localhost:8080/",
          "height": 34
        },
        "outputId": "77707886-fc0a-48d1-89b6-798e66cd8edf"
      },
      "source": [
        "#checking if there is missing data\n",
        "financialdata_df.isnull().values.any()"
      ],
      "execution_count": null,
      "outputs": [
        {
          "output_type": "execute_result",
          "data": {
            "text/plain": [
              "True"
            ]
          },
          "metadata": {
            "tags": []
          },
          "execution_count": 403
        }
      ]
    },
    {
      "cell_type": "code",
      "metadata": {
        "id": "w4mPQiDRkqxH",
        "colab_type": "code",
        "colab": {
          "base_uri": "https://localhost:8080/",
          "height": 34
        },
        "outputId": "52963b2c-6277-41f3-e391-79861277bf7d"
      },
      "source": [
        "#checking how many missing values we have to determine how to deal with it\n",
        "financialdata_df.isnull().values.sum()"
      ],
      "execution_count": null,
      "outputs": [
        {
          "output_type": "execute_result",
          "data": {
            "text/plain": [
              "267"
            ]
          },
          "metadata": {
            "tags": []
          },
          "execution_count": 404
        }
      ]
    },
    {
      "cell_type": "code",
      "metadata": {
        "id": "QUXzfy-Ck_bX",
        "colab_type": "code",
        "colab": {}
      },
      "source": [
        "#dropping missing values \n",
        "financialdata_df1 = financialdata_df.dropna()\n",
        "#dropped entire rows if one value of the row is missing \n",
        "#because the dataset mostly contained categorical data which I did not want to replace"
      ],
      "execution_count": null,
      "outputs": []
    },
    {
      "cell_type": "code",
      "metadata": {
        "id": "yyyqh4MxmJn8",
        "colab_type": "code",
        "colab": {
          "base_uri": "https://localhost:8080/",
          "height": 34
        },
        "outputId": "62e76346-cf94-4d75-d518-a58a75a78e6a"
      },
      "source": [
        "#confirming missing values were dropped\n",
        "\n",
        "financialdata_df1.shape"
      ],
      "execution_count": null,
      "outputs": [
        {
          "output_type": "execute_result",
          "data": {
            "text/plain": [
              "(23343, 13)"
            ]
          },
          "metadata": {
            "tags": []
          },
          "execution_count": 406
        }
      ]
    },
    {
      "cell_type": "code",
      "metadata": {
        "id": "Rx-3qzxHrL9N",
        "colab_type": "code",
        "colab": {
          "base_uri": "https://localhost:8080/",
          "height": 67
        },
        "outputId": "0468610b-2e89-4c21-e28d-4b2da85e5ab6"
      },
      "source": [
        "#checking for duplicate values\n",
        "\n",
        "financialdata_df1[financialdata_df1.duplicated()]\n",
        "#there are no duplicates in our data"
      ],
      "execution_count": null,
      "outputs": [
        {
          "output_type": "execute_result",
          "data": {
            "text/html": [
              "<div>\n",
              "<style scoped>\n",
              "    .dataframe tbody tr th:only-of-type {\n",
              "        vertical-align: middle;\n",
              "    }\n",
              "\n",
              "    .dataframe tbody tr th {\n",
              "        vertical-align: top;\n",
              "    }\n",
              "\n",
              "    .dataframe thead th {\n",
              "        text-align: right;\n",
              "    }\n",
              "</style>\n",
              "<table border=\"1\" class=\"dataframe\">\n",
              "  <thead>\n",
              "    <tr style=\"text-align: right;\">\n",
              "      <th></th>\n",
              "      <th>country</th>\n",
              "      <th>year</th>\n",
              "      <th>uniqueid</th>\n",
              "      <th>has_a_bank_account</th>\n",
              "      <th>type_of_location</th>\n",
              "      <th>cell_phone_access</th>\n",
              "      <th>household_size</th>\n",
              "      <th>respondent_age</th>\n",
              "      <th>gender_of_respondent</th>\n",
              "      <th>the_relationship_with_head</th>\n",
              "      <th>marital_status</th>\n",
              "      <th>level_of_education</th>\n",
              "      <th>type_of_job</th>\n",
              "    </tr>\n",
              "  </thead>\n",
              "  <tbody>\n",
              "  </tbody>\n",
              "</table>\n",
              "</div>"
            ],
            "text/plain": [
              "Empty DataFrame\n",
              "Columns: [country, year, uniqueid, has_a_bank_account, type_of_location, cell_phone_access, household_size, respondent_age, gender_of_respondent, the_relationship_with_head, marital_status, level_of_education, type_of_job]\n",
              "Index: []"
            ]
          },
          "metadata": {
            "tags": []
          },
          "execution_count": 407
        }
      ]
    },
    {
      "cell_type": "code",
      "metadata": {
        "id": "enfPLNHMnPOW",
        "colab_type": "code",
        "colab": {
          "base_uri": "https://localhost:8080/",
          "height": 283
        },
        "outputId": "27b771d0-c194-4631-a11b-d3f40f6d1e44"
      },
      "source": [
        "#checking for outliers in the age column\n",
        "financialdata_df1.boxplot(['respondent_age'], grid = False)"
      ],
      "execution_count": null,
      "outputs": [
        {
          "output_type": "execute_result",
          "data": {
            "text/plain": [
              "<matplotlib.axes._subplots.AxesSubplot at 0x7f9d2e8a4400>"
            ]
          },
          "metadata": {
            "tags": []
          },
          "execution_count": 408
        },
        {
          "output_type": "display_data",
          "data": {
            "image/png": "[encoded data removed]",
            "text/plain": [
              "<Figure size 432x288 with 1 Axes>"
            ]
          },
          "metadata": {
            "tags": [],
            "needs_background": "light"
          }
        }
      ]
    },
    {
      "cell_type": "code",
      "metadata": {
        "id": "H5CD0OAS3Sdc",
        "colab_type": "code",
        "colab": {
          "base_uri": "https://localhost:8080/",
          "height": 283
        },
        "outputId": "5109bbfd-f37f-4fdb-8b19-1b07a535ef9f"
      },
      "source": [
        "#checking for outliers in size of household\n",
        "financialdata_df1.boxplot(['household_size'], grid = False)"
      ],
      "execution_count": null,
      "outputs": [
        {
          "output_type": "execute_result",
          "data": {
            "text/plain": [
              "<matplotlib.axes._subplots.AxesSubplot at 0x7f9d2e7479e8>"
            ]
          },
          "metadata": {
            "tags": []
          },
          "execution_count": 409
        },
        {
          "output_type": "display_data",
          "data": {
            "image/png": "[encoded data removed]",
            "text/plain": [
              "<Figure size 432x288 with 1 Axes>"
            ]
          },
          "metadata": {
            "tags": [],
            "needs_background": "light"
          }
        }
      ]
    },
    {
      "cell_type": "code",
      "metadata": {
        "id": "04ICldvMougM",
        "colab_type": "code",
        "colab": {
          "base_uri": "https://localhost:8080/",
          "height": 282
        },
        "outputId": "5ed015a8-a330-4807-b3d5-8a9a3ba847d2"
      },
      "source": [
        "#checking for outliers in year\n",
        "financialdata_df1.boxplot(['year'], grid = False)"
      ],
      "execution_count": null,
      "outputs": [
        {
          "output_type": "execute_result",
          "data": {
            "text/plain": [
              "<matplotlib.axes._subplots.AxesSubplot at 0x7f9d2e7257b8>"
            ]
          },
          "metadata": {
            "tags": []
          },
          "execution_count": 410
        },
        {
          "output_type": "display_data",
          "data": {
            "image/png": "[encoded data removed]",
            "text/plain": [
              "<Figure size 432x288 with 1 Axes>"
            ]
          },
          "metadata": {
            "tags": [],
            "needs_background": "light"
          }
        }
      ]
    },
    {
      "cell_type": "code",
      "metadata": {
        "id": "hig5voVSpPQS",
        "colab_type": "code",
        "colab": {
          "base_uri": "https://localhost:8080/",
          "height": 34
        },
        "outputId": "0f551c4f-bc12-49fa-c4b7-05d668370674"
      },
      "source": [
        "#checking for anomalies\n",
        "#outliers in age column\n",
        "q1_age = financialdata_df1['respondent_age'].quantile(.25)\n",
        "q3_age = financialdata_df1['respondent_age'].quantile(.75)\n",
        "iqr_age = q3_age - q1_age\n",
        "\n",
        "#outliers in household size column\n",
        "q1_h_size = financialdata_df1['household_size'].quantile(.25)\n",
        "q3_h_size = financialdata_df1['household_size'].quantile(.75)\n",
        "iqr_h_size = q3_h_size - q1_h_size\n",
        "\n",
        "\n",
        "#outliers in household size column\n",
        "q1_year = financialdata_df1['year'].quantile(.25)\n",
        "q3_year = financialdata_df1['year'].quantile(.75)\n",
        "iqr_year = q3_year - q1_year\n",
        "print(iqr_age,iqr_h_size)\n",
        "\n",
        "# the variables age, household_size and year have 23, 3, and 2 entries that are not within the upper and lower bounds respectively."
      ],
      "execution_count": null,
      "outputs": [
        {
          "output_type": "stream",
          "text": [
            "23.0 3.0\n"
          ],
          "name": "stdout"
        }
      ]
    },
    {
      "cell_type": "code",
      "metadata": {
        "id": "GH5lQ57zRok3",
        "colab_type": "code",
        "colab": {
          "base_uri": "https://localhost:8080/",
          "height": 101
        },
        "outputId": "54e9985f-0e2b-4bf4-f806-db1488e6193a"
      },
      "source": [
        "#drop the column year\n",
        "financialdata_df1.drop(['year'], axis = 1, inplace = True)"
      ],
      "execution_count": null,
      "outputs": [
        {
          "output_type": "stream",
          "text": [
            "/usr/local/lib/python3.6/dist-packages/pandas/core/frame.py:3997: SettingWithCopyWarning: \n",
            "A value is trying to be set on a copy of a slice from a DataFrame\n",
            "\n",
            "See the caveats in the documentation: https://pandas.pydata.org/pandas-docs/stable/user_guide/indexing.html#returning-a-view-versus-a-copy\n",
            "  errors=errors,\n"
          ],
          "name": "stderr"
        }
      ]
    },
    {
      "cell_type": "code",
      "metadata": {
        "id": "ixeHd1dWN2Og",
        "colab_type": "code",
        "colab": {
          "base_uri": "https://localhost:8080/",
          "height": 284
        },
        "outputId": "078fb826-743a-4ebf-a26c-b611cf13227f"
      },
      "source": [
        "#performing statistics on our data\n",
        "\n",
        "financialdata_df1.describe()\n",
        "#the numerical variables (household_size and respondent_age have means of 3.6 and 38.9 respectively)\n",
        "#and standard deviations of 2.28 and 16.51 respectively. The two don't show such a great variation around the mean"
      ],
      "execution_count": null,
      "outputs": [
        {
          "output_type": "execute_result",
          "data": {
            "text/html": [
              "<div>\n",
              "<style scoped>\n",
              "    .dataframe tbody tr th:only-of-type {\n",
              "        vertical-align: middle;\n",
              "    }\n",
              "\n",
              "    .dataframe tbody tr th {\n",
              "        vertical-align: top;\n",
              "    }\n",
              "\n",
              "    .dataframe thead th {\n",
              "        text-align: right;\n",
              "    }\n",
              "</style>\n",
              "<table border=\"1\" class=\"dataframe\">\n",
              "  <thead>\n",
              "    <tr style=\"text-align: right;\">\n",
              "      <th></th>\n",
              "      <th>household_size</th>\n",
              "      <th>respondent_age</th>\n",
              "    </tr>\n",
              "  </thead>\n",
              "  <tbody>\n",
              "    <tr>\n",
              "      <th>count</th>\n",
              "      <td>23343.000000</td>\n",
              "      <td>23343.000000</td>\n",
              "    </tr>\n",
              "    <tr>\n",
              "      <th>mean</th>\n",
              "      <td>3.688643</td>\n",
              "      <td>38.805509</td>\n",
              "    </tr>\n",
              "    <tr>\n",
              "      <th>std</th>\n",
              "      <td>2.281184</td>\n",
              "      <td>16.519803</td>\n",
              "    </tr>\n",
              "    <tr>\n",
              "      <th>min</th>\n",
              "      <td>0.000000</td>\n",
              "      <td>16.000000</td>\n",
              "    </tr>\n",
              "    <tr>\n",
              "      <th>25%</th>\n",
              "      <td>2.000000</td>\n",
              "      <td>26.000000</td>\n",
              "    </tr>\n",
              "    <tr>\n",
              "      <th>50%</th>\n",
              "      <td>3.000000</td>\n",
              "      <td>35.000000</td>\n",
              "    </tr>\n",
              "    <tr>\n",
              "      <th>75%</th>\n",
              "      <td>5.000000</td>\n",
              "      <td>49.000000</td>\n",
              "    </tr>\n",
              "    <tr>\n",
              "      <th>max</th>\n",
              "      <td>21.000000</td>\n",
              "      <td>100.000000</td>\n",
              "    </tr>\n",
              "  </tbody>\n",
              "</table>\n",
              "</div>"
            ],
            "text/plain": [
              "       household_size  respondent_age\n",
              "count    23343.000000    23343.000000\n",
              "mean         3.688643       38.805509\n",
              "std          2.281184       16.519803\n",
              "min          0.000000       16.000000\n",
              "25%          2.000000       26.000000\n",
              "50%          3.000000       35.000000\n",
              "75%          5.000000       49.000000\n",
              "max         21.000000      100.000000"
            ]
          },
          "metadata": {
            "tags": []
          },
          "execution_count": 413
        }
      ]
    },
    {
      "cell_type": "code",
      "metadata": {
        "id": "RUdvqisNom16",
        "colab_type": "code",
        "colab": {
          "base_uri": "https://localhost:8080/",
          "height": 410
        },
        "outputId": "ba462f8b-0c9f-4dc6-93ef-c90b3f1dbe49"
      },
      "source": [
        "#describing the entire dataset\n",
        "financialdata_df1.describe(include = \"all\")"
      ],
      "execution_count": null,
      "outputs": [
        {
          "output_type": "execute_result",
          "data": {
            "text/html": [
              "<div>\n",
              "<style scoped>\n",
              "    .dataframe tbody tr th:only-of-type {\n",
              "        vertical-align: middle;\n",
              "    }\n",
              "\n",
              "    .dataframe tbody tr th {\n",
              "        vertical-align: top;\n",
              "    }\n",
              "\n",
              "    .dataframe thead th {\n",
              "        text-align: right;\n",
              "    }\n",
              "</style>\n",
              "<table border=\"1\" class=\"dataframe\">\n",
              "  <thead>\n",
              "    <tr style=\"text-align: right;\">\n",
              "      <th></th>\n",
              "      <th>country</th>\n",
              "      <th>uniqueid</th>\n",
              "      <th>has_a_bank_account</th>\n",
              "      <th>type_of_location</th>\n",
              "      <th>cell_phone_access</th>\n",
              "      <th>household_size</th>\n",
              "      <th>respondent_age</th>\n",
              "      <th>gender_of_respondent</th>\n",
              "      <th>the_relationship_with_head</th>\n",
              "      <th>marital_status</th>\n",
              "      <th>level_of_education</th>\n",
              "      <th>type_of_job</th>\n",
              "    </tr>\n",
              "  </thead>\n",
              "  <tbody>\n",
              "    <tr>\n",
              "      <th>count</th>\n",
              "      <td>23343</td>\n",
              "      <td>23343</td>\n",
              "      <td>23343</td>\n",
              "      <td>23343</td>\n",
              "      <td>23343</td>\n",
              "      <td>23343.000000</td>\n",
              "      <td>23343.000000</td>\n",
              "      <td>23343</td>\n",
              "      <td>23343</td>\n",
              "      <td>23343</td>\n",
              "      <td>23343</td>\n",
              "      <td>23343</td>\n",
              "    </tr>\n",
              "    <tr>\n",
              "      <th>unique</th>\n",
              "      <td>4</td>\n",
              "      <td>8687</td>\n",
              "      <td>2</td>\n",
              "      <td>2</td>\n",
              "      <td>2</td>\n",
              "      <td>NaN</td>\n",
              "      <td>NaN</td>\n",
              "      <td>2</td>\n",
              "      <td>6</td>\n",
              "      <td>5</td>\n",
              "      <td>7</td>\n",
              "      <td>10</td>\n",
              "    </tr>\n",
              "    <tr>\n",
              "      <th>top</th>\n",
              "      <td>Rwanda</td>\n",
              "      <td>uniqueid_1623</td>\n",
              "      <td>No</td>\n",
              "      <td>Rural</td>\n",
              "      <td>Yes</td>\n",
              "      <td>NaN</td>\n",
              "      <td>NaN</td>\n",
              "      <td>Female</td>\n",
              "      <td>Head of Household</td>\n",
              "      <td>Married/Living together</td>\n",
              "      <td>Primary education</td>\n",
              "      <td>Self employed</td>\n",
              "    </tr>\n",
              "    <tr>\n",
              "      <th>freq</th>\n",
              "      <td>8684</td>\n",
              "      <td>4</td>\n",
              "      <td>20046</td>\n",
              "      <td>14264</td>\n",
              "      <td>17334</td>\n",
              "      <td>NaN</td>\n",
              "      <td>NaN</td>\n",
              "      <td>13767</td>\n",
              "      <td>12730</td>\n",
              "      <td>10700</td>\n",
              "      <td>12689</td>\n",
              "      <td>6361</td>\n",
              "    </tr>\n",
              "    <tr>\n",
              "      <th>mean</th>\n",
              "      <td>NaN</td>\n",
              "      <td>NaN</td>\n",
              "      <td>NaN</td>\n",
              "      <td>NaN</td>\n",
              "      <td>NaN</td>\n",
              "      <td>3.688643</td>\n",
              "      <td>38.805509</td>\n",
              "      <td>NaN</td>\n",
              "      <td>NaN</td>\n",
              "      <td>NaN</td>\n",
              "      <td>NaN</td>\n",
              "      <td>NaN</td>\n",
              "    </tr>\n",
              "    <tr>\n",
              "      <th>std</th>\n",
              "      <td>NaN</td>\n",
              "      <td>NaN</td>\n",
              "      <td>NaN</td>\n",
              "      <td>NaN</td>\n",
              "      <td>NaN</td>\n",
              "      <td>2.281184</td>\n",
              "      <td>16.519803</td>\n",
              "      <td>NaN</td>\n",
              "      <td>NaN</td>\n",
              "      <td>NaN</td>\n",
              "      <td>NaN</td>\n",
              "      <td>NaN</td>\n",
              "    </tr>\n",
              "    <tr>\n",
              "      <th>min</th>\n",
              "      <td>NaN</td>\n",
              "      <td>NaN</td>\n",
              "      <td>NaN</td>\n",
              "      <td>NaN</td>\n",
              "      <td>NaN</td>\n",
              "      <td>0.000000</td>\n",
              "      <td>16.000000</td>\n",
              "      <td>NaN</td>\n",
              "      <td>NaN</td>\n",
              "      <td>NaN</td>\n",
              "      <td>NaN</td>\n",
              "      <td>NaN</td>\n",
              "    </tr>\n",
              "    <tr>\n",
              "      <th>25%</th>\n",
              "      <td>NaN</td>\n",
              "      <td>NaN</td>\n",
              "      <td>NaN</td>\n",
              "      <td>NaN</td>\n",
              "      <td>NaN</td>\n",
              "      <td>2.000000</td>\n",
              "      <td>26.000000</td>\n",
              "      <td>NaN</td>\n",
              "      <td>NaN</td>\n",
              "      <td>NaN</td>\n",
              "      <td>NaN</td>\n",
              "      <td>NaN</td>\n",
              "    </tr>\n",
              "    <tr>\n",
              "      <th>50%</th>\n",
              "      <td>NaN</td>\n",
              "      <td>NaN</td>\n",
              "      <td>NaN</td>\n",
              "      <td>NaN</td>\n",
              "      <td>NaN</td>\n",
              "      <td>3.000000</td>\n",
              "      <td>35.000000</td>\n",
              "      <td>NaN</td>\n",
              "      <td>NaN</td>\n",
              "      <td>NaN</td>\n",
              "      <td>NaN</td>\n",
              "      <td>NaN</td>\n",
              "    </tr>\n",
              "    <tr>\n",
              "      <th>75%</th>\n",
              "      <td>NaN</td>\n",
              "      <td>NaN</td>\n",
              "      <td>NaN</td>\n",
              "      <td>NaN</td>\n",
              "      <td>NaN</td>\n",
              "      <td>5.000000</td>\n",
              "      <td>49.000000</td>\n",
              "      <td>NaN</td>\n",
              "      <td>NaN</td>\n",
              "      <td>NaN</td>\n",
              "      <td>NaN</td>\n",
              "      <td>NaN</td>\n",
              "    </tr>\n",
              "    <tr>\n",
              "      <th>max</th>\n",
              "      <td>NaN</td>\n",
              "      <td>NaN</td>\n",
              "      <td>NaN</td>\n",
              "      <td>NaN</td>\n",
              "      <td>NaN</td>\n",
              "      <td>21.000000</td>\n",
              "      <td>100.000000</td>\n",
              "      <td>NaN</td>\n",
              "      <td>NaN</td>\n",
              "      <td>NaN</td>\n",
              "      <td>NaN</td>\n",
              "      <td>NaN</td>\n",
              "    </tr>\n",
              "  </tbody>\n",
              "</table>\n",
              "</div>"
            ],
            "text/plain": [
              "       country       uniqueid  ... level_of_education    type_of_job\n",
              "count    23343          23343  ...              23343          23343\n",
              "unique       4           8687  ...                  7             10\n",
              "top     Rwanda  uniqueid_1623  ...  Primary education  Self employed\n",
              "freq      8684              4  ...              12689           6361\n",
              "mean       NaN            NaN  ...                NaN            NaN\n",
              "std        NaN            NaN  ...                NaN            NaN\n",
              "min        NaN            NaN  ...                NaN            NaN\n",
              "25%        NaN            NaN  ...                NaN            NaN\n",
              "50%        NaN            NaN  ...                NaN            NaN\n",
              "75%        NaN            NaN  ...                NaN            NaN\n",
              "max        NaN            NaN  ...                NaN            NaN\n",
              "\n",
              "[11 rows x 12 columns]"
            ]
          },
          "metadata": {
            "tags": []
          },
          "execution_count": 414
        }
      ]
    },
    {
      "cell_type": "code",
      "metadata": {
        "id": "rEUTB2ZbtFBP",
        "colab_type": "code",
        "colab": {
          "base_uri": "https://localhost:8080/",
          "height": 336
        },
        "outputId": "e48d139b-eb79-4564-b740-88db77792edf"
      },
      "source": [
        "#more information from our cleaned dataset\n",
        "financialdata_df1.info()"
      ],
      "execution_count": null,
      "outputs": [
        {
          "output_type": "stream",
          "text": [
            "<class 'pandas.core.frame.DataFrame'>\n",
            "Int64Index: 23343 entries, 0 to 23523\n",
            "Data columns (total 12 columns):\n",
            " #   Column                      Non-Null Count  Dtype  \n",
            "---  ------                      --------------  -----  \n",
            " 0   country                     23343 non-null  object \n",
            " 1   uniqueid                    23343 non-null  object \n",
            " 2   has_a_bank_account          23343 non-null  object \n",
            " 3   type_of_location            23343 non-null  object \n",
            " 4   cell_phone_access           23343 non-null  object \n",
            " 5   household_size              23343 non-null  float64\n",
            " 6   respondent_age              23343 non-null  float64\n",
            " 7   gender_of_respondent        23343 non-null  object \n",
            " 8   the_relationship_with_head  23343 non-null  object \n",
            " 9   marital_status              23343 non-null  object \n",
            " 10  level_of_education          23343 non-null  object \n",
            " 11  type_of_job                 23343 non-null  object \n",
            "dtypes: float64(2), object(10)\n",
            "memory usage: 2.3+ MB\n"
          ],
          "name": "stdout"
        }
      ]
    },
    {
      "cell_type": "markdown",
      "metadata": {
        "id": "ptVGbyqTuipo",
        "colab_type": "text"
      },
      "source": [
        "##6.Exploratory Analysis"
      ]
    },
    {
      "cell_type": "code",
      "metadata": {
        "id": "n0WK_5H3lbPQ",
        "colab_type": "code",
        "colab": {
          "base_uri": "https://localhost:8080/",
          "height": 295
        },
        "outputId": "70bca611-1a13-4e88-d6d1-e16c9a227993"
      },
      "source": [
        "#plotting the univariate summaries and recording our observations\n",
        "\n",
        "#assigning variables\n",
        "country = financialdata_df1['country']\n",
        "individuals = financialdata_df1['uniqueid']\n",
        "#plotting the bar\n",
        "plt.bar(country,individuals)\n",
        "plt.ylabel('uniqueid')\n",
        "plt.xlabel('country')\n",
        "plt.title('a bar chart of country and persons')\n",
        "plt.show()\n",
        "#Rwanda has the most number of people as per the survey"
      ],
      "execution_count": null,
      "outputs": [
        {
          "output_type": "display_data",
          "data": {
            "image/png": "[encoded data removed]",
            "text/plain": [
              "<Figure size 432x288 with 1 Axes>"
            ]
          },
          "metadata": {
            "tags": [],
            "needs_background": "light"
          }
        }
      ]
    },
    {
      "cell_type": "code",
      "metadata": {
        "id": "rtIW9iZkoYKi",
        "colab_type": "code",
        "colab": {
          "base_uri": "https://localhost:8080/",
          "height": 288
        },
        "outputId": "2018bb00-75b3-4b90-aa93-59cd7413e293"
      },
      "source": [
        "#a bar graph of the number of people with and without bank accounts\n",
        "financialdata_df1['has_a_bank_account'].value_counts().plot.bar()\n",
        "#the number of people withuot bank accounts is significantly higher"
      ],
      "execution_count": null,
      "outputs": [
        {
          "output_type": "execute_result",
          "data": {
            "text/plain": [
              "<matplotlib.axes._subplots.AxesSubplot at 0x7f029a768860>"
            ]
          },
          "metadata": {
            "tags": []
          },
          "execution_count": 160
        },
        {
          "output_type": "display_data",
          "data": {
            "image/png": "[encoded data removed]",
            "text/plain": [
              "<Figure size 432x288 with 1 Axes>"
            ]
          },
          "metadata": {
            "tags": [],
            "needs_background": "light"
          }
        }
      ]
    },
    {
      "cell_type": "code",
      "metadata": {
        "id": "CLzY0lR4uCZs",
        "colab_type": "code",
        "colab": {
          "base_uri": "https://localhost:8080/",
          "height": 303
        },
        "outputId": "c5e0db57-4d63-46ce-b244-e03cb6eba335"
      },
      "source": [
        "#type of location where most people live\n",
        "financialdata_df1['type_of_location'].value_counts().plot.bar()"
      ],
      "execution_count": null,
      "outputs": [
        {
          "output_type": "execute_result",
          "data": {
            "text/plain": [
              "<matplotlib.axes._subplots.AxesSubplot at 0x7f9d386ea470>"
            ]
          },
          "metadata": {
            "tags": []
          },
          "execution_count": 44
        },
        {
          "output_type": "display_data",
          "data": {
            "image/png": "[encoded data removed]",
            "text/plain": [
              "<Figure size 432x288 with 1 Axes>"
            ]
          },
          "metadata": {
            "tags": [],
            "needs_background": "light"
          }
        }
      ]
    },
    {
      "cell_type": "code",
      "metadata": {
        "id": "ewyrdtXgrGUl",
        "colab_type": "code",
        "colab": {
          "base_uri": "https://localhost:8080/",
          "height": 282
        },
        "outputId": "fe1fd611-02fa-4ca4-9a0e-d76894fb4ba5"
      },
      "source": [
        "#creating a pie chart of country by access to a bank account\n",
        "financialdata_df1['respondent_age'].value_counts().plot.area()"
      ],
      "execution_count": null,
      "outputs": [
        {
          "output_type": "execute_result",
          "data": {
            "text/plain": [
              "<matplotlib.axes._subplots.AxesSubplot at 0x7f02a57b7080>"
            ]
          },
          "metadata": {
            "tags": []
          },
          "execution_count": 161
        },
        {
          "output_type": "display_data",
          "data": {
            "image/png": "[encoded data removed]",
            "text/plain": [
              "<Figure size 432x288 with 1 Axes>"
            ]
          },
          "metadata": {
            "tags": [],
            "needs_background": "light"
          }
        }
      ]
    },
    {
      "cell_type": "code",
      "metadata": {
        "id": "TbP3JgPKlbxO",
        "colab_type": "code",
        "colab": {
          "base_uri": "https://localhost:8080/",
          "height": 84
        },
        "outputId": "1d207a07-a2f3-4d1f-a5b4-e26edad28078"
      },
      "source": [
        "#grouping age\n",
        "grouped_age_by_bank_account = financialdata_df1.groupby('has_a_bank_account')['respondent_age'].sum()\n",
        "grouped_age_by_bank_account"
      ],
      "execution_count": null,
      "outputs": [
        {
          "output_type": "execute_result",
          "data": {
            "text/plain": [
              "has_a_bank_account\n",
              "No     776013.0\n",
              "Yes    130635.0\n",
              "Name: respondent_age, dtype: float64"
            ]
          },
          "metadata": {
            "tags": []
          },
          "execution_count": 46
        }
      ]
    },
    {
      "cell_type": "code",
      "metadata": {
        "id": "xqMQ_bv9uI-j",
        "colab_type": "code",
        "colab": {
          "base_uri": "https://localhost:8080/",
          "height": 264
        },
        "outputId": "3e759e89-9a96-4ad2-ff40-2e3728fe8476"
      },
      "source": [
        "#plotting a pie chart of all countries \n",
        "#assigning variables\n",
        "grouped_age_by_bank_account = financialdata_df1.groupby('has_a_bank_account')['respondent_age'].sum()\n",
        "labels = financialdata_df1.groupby('has_a_bank_account')\n",
        "#exploding the second variable\n",
        "#explode = (0, 0.1, 0)\n",
        "\n",
        "#creating a pie chart of individuals with a bank account by age\n",
        "plt.pie(grouped_age_by_bank_account, autopct = '%1.1f%%', shadow = True, startangle = 100)\n",
        "plt.axis('equal')\n",
        "plt.title('A pie chart of respondent age grouped by bank account status')\n",
        "plt.show()"
      ],
      "execution_count": null,
      "outputs": [
        {
          "output_type": "display_data",
          "data": {
            "image/png": "[encoded data removed]",
            "text/plain": [
              "<Figure size 432x288 with 1 Axes>"
            ]
          },
          "metadata": {
            "tags": []
          }
        }
      ]
    },
    {
      "cell_type": "markdown",
      "metadata": {
        "id": "9wPYdQm74xCi",
        "colab_type": "text"
      },
      "source": [
        "##Implementing the solution"
      ]
    },
    {
      "cell_type": "code",
      "metadata": {
        "id": "tIf-L8MW47rf",
        "colab_type": "code",
        "colab": {
          "base_uri": "https://localhost:8080/",
          "height": 185
        },
        "outputId": "c2c7e522-a114-4e02-99c4-50533419f889"
      },
      "source": [
        "#ranking coutries by descending number of people with and without bank accounts\n",
        "financialdata_df1.groupby(['country','has_a_bank_account'])['has_a_bank_account'].count().sort_values(ascending = False)\n"
      ],
      "execution_count": null,
      "outputs": [
        {
          "output_type": "execute_result",
          "data": {
            "text/plain": [
              "country   has_a_bank_account\n",
              "Rwanda    No                    7687\n",
              "Tanzania  No                    5901\n",
              "Kenya     No                    4544\n",
              "Uganda    No                    1914\n",
              "Kenya     Yes                   1520\n",
              "Rwanda    Yes                    997\n",
              "Tanzania  Yes                    599\n",
              "Uganda    Yes                    181\n",
              "Name: has_a_bank_account, dtype: int64"
            ]
          },
          "metadata": {
            "tags": []
          },
          "execution_count": 169
        }
      ]
    },
    {
      "cell_type": "code",
      "metadata": {
        "id": "yc_CEjxAtcUL",
        "colab_type": "code",
        "colab": {
          "base_uri": "https://localhost:8080/",
          "height": 235
        },
        "outputId": "3116bdb7-72f0-4f06-86be-db7188ca814d"
      },
      "source": [
        "#ranking countries, the number of people with a bank account, their level of education and type of location the live in by their age\n",
        "\n",
        "#bank_account_filter = financialdata_df1[financialdata_df1.has_a_bank_account == 0]\n",
        "financialdata_df1[financialdata_df1.respondent_age < 40].groupby(['country','has_a_bank_account', 'level_of_education', 'type_of_location','respondent_age'])['respondent_age'].mean().sort_values(ascending = False)\n",
        "\n",
        "    "
      ],
      "execution_count": null,
      "outputs": [
        {
          "output_type": "execute_result",
          "data": {
            "text/plain": [
              "country   has_a_bank_account  level_of_education               type_of_location  respondent_age\n",
              "Uganda    Yes                 Vocational/Specialised training  Urban             39.0              39.0\n",
              "Kenya     Yes                 Primary education                Urban             39.0              39.0\n",
              "Tanzania  No                  Vocational/Specialised training  Rural             39.0              39.0\n",
              "Rwanda    No                  Primary education                Urban             39.0              39.0\n",
              "Uganda    No                  Secondary education              Urban             39.0              39.0\n",
              "                                                                                                   ... \n",
              "Rwanda    No                  Primary education                Rural             16.0              16.0\n",
              "                              No formal education              Urban             16.0              16.0\n",
              "Uganda    No                  Secondary education              Rural             16.0              16.0\n",
              "Rwanda    No                  Vocational/Specialised training  Rural             16.0              16.0\n",
              "Kenya     No                  No formal education              Rural             16.0              16.0\n",
              "Name: respondent_age, Length: 1299, dtype: float64"
            ]
          },
          "metadata": {
            "tags": []
          },
          "execution_count": 178
        }
      ]
    },
    {
      "cell_type": "markdown",
      "metadata": {
        "id": "KyxnnNO9yYc-",
        "colab_type": "text"
      },
      "source": [
        "## Challenging the solution"
      ]
    },
    {
      "cell_type": "markdown",
      "metadata": {
        "id": "98QGrHMPyeXX",
        "colab_type": "text"
      },
      "source": [
        "Our solution shows that Uganda has the most number of people who are 40 years and below with access to a bank account. Also, these people live in the urban areas and have gone through vocational/specialized training. This solution has been derived by computing the mean age of these individuals.\n",
        "\n",
        "However, it is possible that Kenya, which is following Uganda closely has more number of people under 40 who have bank accounts, however, the mean af their ages has more variability hence the difference in results?"
      ]
    },
    {
      "cell_type": "markdown",
      "metadata": {
        "id": "ofSLQgkx0Y03",
        "colab_type": "text"
      },
      "source": [
        "##Follow up Questions"
      ]
    },
    {
      "cell_type": "markdown",
      "metadata": {
        "id": "wWSHQoyG0d7j",
        "colab_type": "text"
      },
      "source": [
        "At this point, we can refine our question or collect new data, all in an iterative process to get at the truth"
      ]
    },
    {
      "cell_type": "markdown",
      "metadata": {
        "id": "1kQDVqtg0tZX",
        "colab_type": "text"
      },
      "source": [
        "###Did we have the right data"
      ]
    },
    {
      "cell_type": "markdown",
      "metadata": {
        "id": "W61UMX390_d-",
        "colab_type": "text"
      },
      "source": [
        "Following the analysis, we yes we did have the right data to conduct adequate analysis"
      ]
    },
    {
      "cell_type": "markdown",
      "metadata": {
        "id": "lubPdGaZ0yKg",
        "colab_type": "text"
      },
      "source": [
        "###Do we need other data to answer our questions"
      ]
    },
    {
      "cell_type": "markdown",
      "metadata": {
        "id": "SihrW2IJ1jKu",
        "colab_type": "text"
      },
      "source": [
        "As far as this analysis goes, the data provided was adequate. However, the anaylysis would have been more reliable had the data been uniform in terms of years"
      ]
    },
    {
      "cell_type": "markdown",
      "metadata": {
        "id": "OU32cWeY04rC",
        "colab_type": "text"
      },
      "source": [
        "###Did we have the right question?"
      ]
    },
    {
      "cell_type": "markdown",
      "metadata": {
        "id": "Po6JzVNi0gB7",
        "colab_type": "text"
      },
      "source": [
        "The question at hand summarizes the factors/characteristics exhibited by individuals who have/use bank accounts hence a good place to start predicting which individuals are more likely to have bank accounts"
      ]
    },
    {
      "cell_type": "markdown",
      "metadata": {
        "id": "4QBeP4Ug4nrg",
        "colab_type": "text"
      },
      "source": [
        "##BIVARIATE ANALYSIS"
      ]
    },
    {
      "cell_type": "markdown",
      "metadata": {
        "id": "Q_hDYD7KAU1E",
        "colab_type": "text"
      },
      "source": [
        "##1.Defining the Question"
      ]
    },
    {
      "cell_type": "markdown",
      "metadata": {
        "id": "mPZtu8qYAYta",
        "colab_type": "text"
      },
      "source": [
        "##a) Specifying the Data Analytic Question"
      ]
    },
    {
      "cell_type": "markdown",
      "metadata": {
        "id": "y8ZilMkCBTPM",
        "colab_type": "text"
      },
      "source": [
        "How do the factors mentioned below relate with having a bank account? \n",
        "\n",
        "\n",
        "*   Age\n",
        "*   Level of education\n",
        "*   Type of location\n",
        "*   Access to cell phone\n",
        "*   Gender\n",
        "\n",
        "\n",
        "\n",
        "\n",
        "\n"
      ]
    },
    {
      "cell_type": "markdown",
      "metadata": {
        "id": "jq7WpUWiAjMP",
        "colab_type": "text"
      },
      "source": [
        "##b) Defining the Metric for Success"
      ]
    },
    {
      "cell_type": "markdown",
      "metadata": {
        "id": "KJhewC6-4u7i",
        "colab_type": "text"
      },
      "source": [
        ""
      ]
    },
    {
      "cell_type": "markdown",
      "metadata": {
        "id": "TPtrimvmCGYy",
        "colab_type": "text"
      },
      "source": [
        "1. Calculate the correlation coefficient between the variables\n",
        "2. Find the correlation matrix\n",
        "3. Scatter plots of the variables\n",
        "\n",
        "---\n",
        "\n"
      ]
    },
    {
      "cell_type": "markdown",
      "metadata": {
        "id": "WnCYUA3lAzCt",
        "colab_type": "text"
      },
      "source": [
        "##c) Understanding the context\n",
        "\n",
        "\n"
      ]
    },
    {
      "cell_type": "markdown",
      "metadata": {
        "id": "2SpukpO3Cgwi",
        "colab_type": "text"
      },
      "source": [
        "Financial inclusion is an essential contributor to long term economic growth. One strong indicator of financial inclusion is access to a bank account. This means that the more individuals who have access to a bank account in a country, the more promising it is to the economic growth of this country. For this reason, I would like to find out some of the key features/factors that influence to financial inclusion and how they are they relate to each other\n"
      ]
    },
    {
      "cell_type": "markdown",
      "metadata": {
        "id": "5MeKQDo1A98s",
        "colab_type": "text"
      },
      "source": [
        "##d) Recording the Experimental Design"
      ]
    },
    {
      "cell_type": "markdown",
      "metadata": {
        "id": "Gs_siV4eA_JA",
        "colab_type": "text"
      },
      "source": [
        "##e) Data Relevance"
      ]
    },
    {
      "cell_type": "markdown",
      "metadata": {
        "id": "i7R_bdd7EKYk",
        "colab_type": "text"
      },
      "source": [
        "The data at hand has all the necessary information required to conduct my analysis"
      ]
    },
    {
      "cell_type": "markdown",
      "metadata": {
        "id": "kC8pzcs75mTd",
        "colab_type": "text"
      },
      "source": [
        "## Reading our data\n",
        "\n"
      ]
    },
    {
      "cell_type": "code",
      "metadata": {
        "id": "Dhh_yss95hw3",
        "colab_type": "code",
        "colab": {
          "base_uri": "https://localhost:8080/",
          "height": 206
        },
        "outputId": "8a89901a-caa1-4630-f794-961a6bee8860"
      },
      "source": [
        "#previewing our data\n",
        "financialdata_df1.head(3)"
      ],
      "execution_count": null,
      "outputs": [
        {
          "output_type": "execute_result",
          "data": {
            "text/html": [
              "<div>\n",
              "<style scoped>\n",
              "    .dataframe tbody tr th:only-of-type {\n",
              "        vertical-align: middle;\n",
              "    }\n",
              "\n",
              "    .dataframe tbody tr th {\n",
              "        vertical-align: top;\n",
              "    }\n",
              "\n",
              "    .dataframe thead th {\n",
              "        text-align: right;\n",
              "    }\n",
              "</style>\n",
              "<table border=\"1\" class=\"dataframe\">\n",
              "  <thead>\n",
              "    <tr style=\"text-align: right;\">\n",
              "      <th></th>\n",
              "      <th>country</th>\n",
              "      <th>uniqueid</th>\n",
              "      <th>has_a_bank_account</th>\n",
              "      <th>type_of_location</th>\n",
              "      <th>cell_phone_access</th>\n",
              "      <th>household_size</th>\n",
              "      <th>respondent_age</th>\n",
              "      <th>gender_of_respondent</th>\n",
              "      <th>the_relationship_with_head</th>\n",
              "      <th>marital_status</th>\n",
              "      <th>level_of_education</th>\n",
              "      <th>type_of_job</th>\n",
              "    </tr>\n",
              "  </thead>\n",
              "  <tbody>\n",
              "    <tr>\n",
              "      <th>0</th>\n",
              "      <td>Kenya</td>\n",
              "      <td>uniqueid_1</td>\n",
              "      <td>Yes</td>\n",
              "      <td>Rural</td>\n",
              "      <td>Yes</td>\n",
              "      <td>3.0</td>\n",
              "      <td>24.0</td>\n",
              "      <td>Female</td>\n",
              "      <td>Spouse</td>\n",
              "      <td>Married/Living together</td>\n",
              "      <td>Secondary education</td>\n",
              "      <td>Self employed</td>\n",
              "    </tr>\n",
              "    <tr>\n",
              "      <th>1</th>\n",
              "      <td>Kenya</td>\n",
              "      <td>uniqueid_2</td>\n",
              "      <td>No</td>\n",
              "      <td>Rural</td>\n",
              "      <td>No</td>\n",
              "      <td>5.0</td>\n",
              "      <td>70.0</td>\n",
              "      <td>Female</td>\n",
              "      <td>Head of Household</td>\n",
              "      <td>Widowed</td>\n",
              "      <td>No formal education</td>\n",
              "      <td>Government Dependent</td>\n",
              "    </tr>\n",
              "    <tr>\n",
              "      <th>2</th>\n",
              "      <td>Kenya</td>\n",
              "      <td>uniqueid_3</td>\n",
              "      <td>Yes</td>\n",
              "      <td>Urban</td>\n",
              "      <td>Yes</td>\n",
              "      <td>5.0</td>\n",
              "      <td>26.0</td>\n",
              "      <td>Male</td>\n",
              "      <td>Other relative</td>\n",
              "      <td>Single/Never Married</td>\n",
              "      <td>Vocational/Specialised training</td>\n",
              "      <td>Self employed</td>\n",
              "    </tr>\n",
              "  </tbody>\n",
              "</table>\n",
              "</div>"
            ],
            "text/plain": [
              "  country    uniqueid  ...               level_of_education           type_of_job\n",
              "0   Kenya  uniqueid_1  ...              Secondary education         Self employed\n",
              "1   Kenya  uniqueid_2  ...              No formal education  Government Dependent\n",
              "2   Kenya  uniqueid_3  ...  Vocational/Specialised training         Self employed\n",
              "\n",
              "[3 rows x 12 columns]"
            ]
          },
          "metadata": {
            "tags": []
          },
          "execution_count": 368
        }
      ]
    },
    {
      "cell_type": "markdown",
      "metadata": {
        "id": "taS-Xtrp6ZPK",
        "colab_type": "text"
      },
      "source": [
        "## Tidying our data"
      ]
    },
    {
      "cell_type": "code",
      "metadata": {
        "id": "lHcl3Ey34pfI",
        "colab_type": "code",
        "colab": {
          "base_uri": "https://localhost:8080/",
          "height": 279
        },
        "outputId": "0ee8a592-c5c1-406d-f5ff-e2ee3f4dda32"
      },
      "source": [
        "#dropping unecessary columns\n",
        "financialdata_df1.drop(['country','uniqueid','the_relationship_with_head','marital_status','type_of_job'],axis = 1, inplace = True)\n",
        "financialdata_df1.head()"
      ],
      "execution_count": null,
      "outputs": [
        {
          "output_type": "stream",
          "text": [
            "/usr/local/lib/python3.6/dist-packages/pandas/core/frame.py:3997: SettingWithCopyWarning: \n",
            "A value is trying to be set on a copy of a slice from a DataFrame\n",
            "\n",
            "See the caveats in the documentation: https://pandas.pydata.org/pandas-docs/stable/user_guide/indexing.html#returning-a-view-versus-a-copy\n",
            "  errors=errors,\n"
          ],
          "name": "stderr"
        },
        {
          "output_type": "execute_result",
          "data": {
            "text/html": [
              "<div>\n",
              "<style scoped>\n",
              "    .dataframe tbody tr th:only-of-type {\n",
              "        vertical-align: middle;\n",
              "    }\n",
              "\n",
              "    .dataframe tbody tr th {\n",
              "        vertical-align: top;\n",
              "    }\n",
              "\n",
              "    .dataframe thead th {\n",
              "        text-align: right;\n",
              "    }\n",
              "</style>\n",
              "<table border=\"1\" class=\"dataframe\">\n",
              "  <thead>\n",
              "    <tr style=\"text-align: right;\">\n",
              "      <th></th>\n",
              "      <th>has_a_bank_account</th>\n",
              "      <th>type_of_location</th>\n",
              "      <th>cell_phone_access</th>\n",
              "      <th>household_size</th>\n",
              "      <th>respondent_age</th>\n",
              "      <th>gender_of_respondent</th>\n",
              "      <th>level_of_education</th>\n",
              "    </tr>\n",
              "  </thead>\n",
              "  <tbody>\n",
              "    <tr>\n",
              "      <th>0</th>\n",
              "      <td>Yes</td>\n",
              "      <td>Rural</td>\n",
              "      <td>Yes</td>\n",
              "      <td>3.0</td>\n",
              "      <td>24.0</td>\n",
              "      <td>Female</td>\n",
              "      <td>Secondary education</td>\n",
              "    </tr>\n",
              "    <tr>\n",
              "      <th>1</th>\n",
              "      <td>No</td>\n",
              "      <td>Rural</td>\n",
              "      <td>No</td>\n",
              "      <td>5.0</td>\n",
              "      <td>70.0</td>\n",
              "      <td>Female</td>\n",
              "      <td>No formal education</td>\n",
              "    </tr>\n",
              "    <tr>\n",
              "      <th>2</th>\n",
              "      <td>Yes</td>\n",
              "      <td>Urban</td>\n",
              "      <td>Yes</td>\n",
              "      <td>5.0</td>\n",
              "      <td>26.0</td>\n",
              "      <td>Male</td>\n",
              "      <td>Vocational/Specialised training</td>\n",
              "    </tr>\n",
              "    <tr>\n",
              "      <th>3</th>\n",
              "      <td>No</td>\n",
              "      <td>Rural</td>\n",
              "      <td>Yes</td>\n",
              "      <td>5.0</td>\n",
              "      <td>34.0</td>\n",
              "      <td>Female</td>\n",
              "      <td>Primary education</td>\n",
              "    </tr>\n",
              "    <tr>\n",
              "      <th>4</th>\n",
              "      <td>No</td>\n",
              "      <td>Urban</td>\n",
              "      <td>No</td>\n",
              "      <td>8.0</td>\n",
              "      <td>26.0</td>\n",
              "      <td>Male</td>\n",
              "      <td>Primary education</td>\n",
              "    </tr>\n",
              "  </tbody>\n",
              "</table>\n",
              "</div>"
            ],
            "text/plain": [
              "  has_a_bank_account  ...               level_of_education\n",
              "0                Yes  ...              Secondary education\n",
              "1                 No  ...              No formal education\n",
              "2                Yes  ...  Vocational/Specialised training\n",
              "3                 No  ...                Primary education\n",
              "4                 No  ...                Primary education\n",
              "\n",
              "[5 rows x 7 columns]"
            ]
          },
          "metadata": {
            "tags": []
          },
          "execution_count": 416
        }
      ]
    },
    {
      "cell_type": "code",
      "metadata": {
        "id": "qZ9iFtihKH0F",
        "colab_type": "code",
        "colab": {}
      },
      "source": [
        "#encoding necessary categorical variables to be able to view correlation\n",
        "encode = {\"has_a_bank_account\": {\"Yes\":1, \"No\":0}, \"type_of_location\": {\"Rural\":1, \"Urban\":0},\n",
        "          \"gender_of_respondent\": {\"Male\":1, \"Female\":0},\"cell_phone_access\":{\"Yes\":1,\"No\":0},\n",
        "          \"level_of_education\":{\"No formal education\":0,\"Primary education\":1, \"Secondary education\":2,\n",
        "                                \"Vocational/Specialised training\":3,\"Tertiary education\":4, \"Other/Dont know/RTA\":5}}"
      ],
      "execution_count": null,
      "outputs": []
    },
    {
      "cell_type": "code",
      "metadata": {
        "id": "TjrUBmtoNS8Y",
        "colab_type": "code",
        "colab": {
          "base_uri": "https://localhost:8080/",
          "height": 207
        },
        "outputId": "6aec644e-e500-4f9a-df57-c382b24e7552"
      },
      "source": [
        "#\n",
        "financialdata_df1.replace(encode, inplace = True)\n",
        "financialdata_df1.head(2)"
      ],
      "execution_count": null,
      "outputs": [
        {
          "output_type": "stream",
          "text": [
            "/usr/local/lib/python3.6/dist-packages/pandas/core/generic.py:6666: SettingWithCopyWarning: \n",
            "A value is trying to be set on a copy of a slice from a DataFrame.\n",
            "Try using .loc[row_indexer,col_indexer] = value instead\n",
            "\n",
            "See the caveats in the documentation: https://pandas.pydata.org/pandas-docs/stable/user_guide/indexing.html#returning-a-view-versus-a-copy\n",
            "  regex=regex,\n"
          ],
          "name": "stderr"
        },
        {
          "output_type": "execute_result",
          "data": {
            "text/html": [
              "<div>\n",
              "<style scoped>\n",
              "    .dataframe tbody tr th:only-of-type {\n",
              "        vertical-align: middle;\n",
              "    }\n",
              "\n",
              "    .dataframe tbody tr th {\n",
              "        vertical-align: top;\n",
              "    }\n",
              "\n",
              "    .dataframe thead th {\n",
              "        text-align: right;\n",
              "    }\n",
              "</style>\n",
              "<table border=\"1\" class=\"dataframe\">\n",
              "  <thead>\n",
              "    <tr style=\"text-align: right;\">\n",
              "      <th></th>\n",
              "      <th>has_a_bank_account</th>\n",
              "      <th>type_of_location</th>\n",
              "      <th>cell_phone_access</th>\n",
              "      <th>household_size</th>\n",
              "      <th>respondent_age</th>\n",
              "      <th>gender_of_respondent</th>\n",
              "      <th>level_of_education</th>\n",
              "    </tr>\n",
              "  </thead>\n",
              "  <tbody>\n",
              "    <tr>\n",
              "      <th>0</th>\n",
              "      <td>1</td>\n",
              "      <td>1</td>\n",
              "      <td>1</td>\n",
              "      <td>3.0</td>\n",
              "      <td>24.0</td>\n",
              "      <td>0</td>\n",
              "      <td>2</td>\n",
              "    </tr>\n",
              "    <tr>\n",
              "      <th>1</th>\n",
              "      <td>0</td>\n",
              "      <td>1</td>\n",
              "      <td>0</td>\n",
              "      <td>5.0</td>\n",
              "      <td>70.0</td>\n",
              "      <td>0</td>\n",
              "      <td>0</td>\n",
              "    </tr>\n",
              "  </tbody>\n",
              "</table>\n",
              "</div>"
            ],
            "text/plain": [
              "   has_a_bank_account  ...  level_of_education\n",
              "0                   1  ...                   2\n",
              "1                   0  ...                   0\n",
              "\n",
              "[2 rows x 7 columns]"
            ]
          },
          "metadata": {
            "tags": []
          },
          "execution_count": 418
        }
      ]
    },
    {
      "cell_type": "code",
      "metadata": {
        "id": "Q8m9s_207SqF",
        "colab_type": "code",
        "colab": {
          "base_uri": "https://localhost:8080/",
          "height": 252
        },
        "outputId": "e0dcb4ec-b774-4403-a079-58c295aa2cdc"
      },
      "source": [
        "#information about our dataset\n",
        "financialdata_df1.info()"
      ],
      "execution_count": null,
      "outputs": [
        {
          "output_type": "stream",
          "text": [
            "<class 'pandas.core.frame.DataFrame'>\n",
            "Int64Index: 23343 entries, 0 to 23523\n",
            "Data columns (total 7 columns):\n",
            " #   Column                Non-Null Count  Dtype  \n",
            "---  ------                --------------  -----  \n",
            " 0   has_a_bank_account    23343 non-null  int64  \n",
            " 1   type_of_location      23343 non-null  int64  \n",
            " 2   cell_phone_access     23343 non-null  int64  \n",
            " 3   household_size        23343 non-null  float64\n",
            " 4   respondent_age        23343 non-null  float64\n",
            " 5   gender_of_respondent  23343 non-null  int64  \n",
            " 6   level_of_education    23343 non-null  object \n",
            "dtypes: float64(2), int64(4), object(1)\n",
            "memory usage: 1.4+ MB\n"
          ],
          "name": "stdout"
        }
      ]
    },
    {
      "cell_type": "code",
      "metadata": {
        "id": "edF0nSzk-ph-",
        "colab_type": "code",
        "colab": {
          "base_uri": "https://localhost:8080/",
          "height": 118
        },
        "outputId": "0fd54c8d-284b-4a86-b154-dd580a56750e"
      },
      "source": [
        "#converting level of education to float data type\n",
        "financialdata_df1['level_of_education'] = financialdata_df1['level_of_education'].astype('int')"
      ],
      "execution_count": null,
      "outputs": [
        {
          "output_type": "stream",
          "text": [
            "/usr/local/lib/python3.6/dist-packages/ipykernel_launcher.py:2: SettingWithCopyWarning: \n",
            "A value is trying to be set on a copy of a slice from a DataFrame.\n",
            "Try using .loc[row_indexer,col_indexer] = value instead\n",
            "\n",
            "See the caveats in the documentation: https://pandas.pydata.org/pandas-docs/stable/user_guide/indexing.html#returning-a-view-versus-a-copy\n",
            "  \n"
          ],
          "name": "stderr"
        }
      ]
    },
    {
      "cell_type": "markdown",
      "metadata": {
        "id": "dQjbyjOOFIgF",
        "colab_type": "text"
      },
      "source": [
        "##6.Exploratory Analysis"
      ]
    },
    {
      "cell_type": "code",
      "metadata": {
        "id": "G20sGXCOFKxj",
        "colab_type": "code",
        "colab": {
          "base_uri": "https://localhost:8080/",
          "height": 1000
        },
        "outputId": "20ce4afc-b661-4cec-8de2-9f88a7eac0d4"
      },
      "source": [
        "#plotting the bivariate summaries and recording our observations\n",
        "sns.pairplot(financialdata_df1)\n",
        "plt.show()"
      ],
      "execution_count": null,
      "outputs": [
        {
          "output_type": "display_data",
          "data": {
            "image/png": "[encoded data removed]",
            "text/plain": [
              "<Figure size 1260x1260 with 56 Axes>"
            ]
          },
          "metadata": {
            "tags": [],
            "needs_background": "light"
          }
        }
      ]
    },
    {
      "cell_type": "code",
      "metadata": {
        "id": "XunhJf7ZwQs2",
        "colab_type": "code",
        "colab": {
          "base_uri": "https://localhost:8080/",
          "height": 371
        },
        "outputId": "fba591a8-9adc-4d11-94cd-9ec2a043bf77"
      },
      "source": [
        "#correlation between the different variables\n",
        "sns.heatmap(financialdata_df1.corr(),annot=True)\n",
        "plt.show()"
      ],
      "execution_count": null,
      "outputs": [
        {
          "output_type": "display_data",
          "data": {
            "image/png": "[encoded data removed]",
            "text/plain": [
              "<Figure size 432x288 with 2 Axes>"
            ]
          },
          "metadata": {
            "tags": [],
            "needs_background": "light"
          }
        }
      ]
    },
    {
      "cell_type": "markdown",
      "metadata": {
        "id": "2ku2aBcpHGDA",
        "colab_type": "text"
      },
      "source": [
        "##Implementing the Solution"
      ]
    },
    {
      "cell_type": "code",
      "metadata": {
        "id": "HkrseQy8ubyB",
        "colab_type": "code",
        "colab": {
          "base_uri": "https://localhost:8080/",
          "height": 34
        },
        "outputId": "ce0c3b41-e98b-408b-ff59-418c86281fd4"
      },
      "source": [
        "#correlation coefficient between the two variables\n",
        "\n",
        "#correlation coefficient between education level and having a bank account\n",
        "\n",
        "financialdata_df1['level_of_education'].corr(financialdata_df1['has_a_bank_account'])\n",
        "#the level of education of an individual has a weak positive correlation to having a bank account. "
      ],
      "execution_count": null,
      "outputs": [
        {
          "output_type": "execute_result",
          "data": {
            "text/plain": [
              "0.3601687487676543"
            ]
          },
          "metadata": {
            "tags": []
          },
          "execution_count": 381
        }
      ]
    },
    {
      "cell_type": "code",
      "metadata": {
        "id": "zI7qTnzRBRx8",
        "colab_type": "code",
        "colab": {
          "base_uri": "https://localhost:8080/",
          "height": 34
        },
        "outputId": "63dad48f-ee13-4421-b4cc-f4dba34ea868"
      },
      "source": [
        "#correlation coefficient of type of location of an individual and having a bank account\n",
        "financialdata_df1['type_of_location'].corr(financialdata_df1['has_a_bank_account'])\n",
        "#the two variables have a weak negative correlation"
      ],
      "execution_count": null,
      "outputs": [
        {
          "output_type": "execute_result",
          "data": {
            "text/plain": [
              "-0.088731371231783"
            ]
          },
          "metadata": {
            "tags": []
          },
          "execution_count": 382
        }
      ]
    },
    {
      "cell_type": "code",
      "metadata": {
        "id": "xjGON09PBtY3",
        "colab_type": "code",
        "colab": {
          "base_uri": "https://localhost:8080/",
          "height": 34
        },
        "outputId": "be21bed9-8c9d-4809-88f1-bf1e56c28d9c"
      },
      "source": [
        "#correlation coefficient of gender of an individual and having a bank account\n",
        "financialdata_df1['gender_of_respondent'].corr(financialdata_df1['has_a_bank_account'])\n",
        "#the two variables have a weak positive correlation"
      ],
      "execution_count": null,
      "outputs": [
        {
          "output_type": "execute_result",
          "data": {
            "text/plain": [
              "0.11615307466742542"
            ]
          },
          "metadata": {
            "tags": []
          },
          "execution_count": 384
        }
      ]
    },
    {
      "cell_type": "code",
      "metadata": {
        "id": "kUeTOTdiCGSZ",
        "colab_type": "code",
        "colab": {
          "base_uri": "https://localhost:8080/",
          "height": 34
        },
        "outputId": "0c7cfb97-348a-4658-b4e6-ee858cc44cae"
      },
      "source": [
        "#correlation coefficient of type of location of an individual and having a bank account\n",
        "financialdata_df1['respondent_age'].corr(financialdata_df1['has_a_bank_account'])\n",
        "#the two variables have a weak positive correlation"
      ],
      "execution_count": null,
      "outputs": [
        {
          "output_type": "execute_result",
          "data": {
            "text/plain": [
              "0.01964467227121254"
            ]
          },
          "metadata": {
            "tags": []
          },
          "execution_count": 386
        }
      ]
    },
    {
      "cell_type": "code",
      "metadata": {
        "id": "99rF9IsxvLFD",
        "colab_type": "code",
        "colab": {
          "base_uri": "https://localhost:8080/",
          "height": 67
        },
        "outputId": "09003fbb-8f91-4785-c6a6-c3a40f6e7cff"
      },
      "source": [
        "education_level = financialdata_df1[financialdata_df1.has_a_bank_account == 1].groupby('has_a_bank_account')['has_a_bank_account'].count().sort_values(ascending = False)\n",
        "education_level"
      ],
      "execution_count": null,
      "outputs": [
        {
          "output_type": "execute_result",
          "data": {
            "text/plain": [
              "has_a_bank_account\n",
              "1    3297\n",
              "Name: has_a_bank_account, dtype: int64"
            ]
          },
          "metadata": {
            "tags": []
          },
          "execution_count": 249
        }
      ]
    },
    {
      "cell_type": "code",
      "metadata": {
        "id": "UXiDKqHpwkd2",
        "colab_type": "code",
        "colab": {}
      },
      "source": [
        "level_of_education = financialdata_df1['level_of_education']"
      ],
      "execution_count": null,
      "outputs": []
    },
    {
      "cell_type": "code",
      "metadata": {
        "id": "lXVK6oo9Xhq2",
        "colab_type": "code",
        "colab": {}
      },
      "source": [
        "#assigning our variables\n",
        "access_to_bank_account= financialdata_df1['has_a_bank_account']\n",
        "level_of_education = financialdata_df1['level_of_education']\n",
        "age = financialdata_df1['respondent_age']"
      ],
      "execution_count": null,
      "outputs": []
    },
    {
      "cell_type": "code",
      "metadata": {
        "id": "xrJb2pufZPrn",
        "colab_type": "code",
        "colab": {
          "base_uri": "https://localhost:8080/",
          "height": 312
        },
        "outputId": "4f0fe595-108a-4fb0-b395-c2669ceacd70"
      },
      "source": [
        "#plotting scatter plot\n",
        "plt.scatter(age,access_to_bank_account)\n",
        "plt.title('A scatter plot of people who have a bank account with age')\n",
        "plt.xlabel('age')\n",
        "plt.ylabel('bank account')"
      ],
      "execution_count": null,
      "outputs": [
        {
          "output_type": "execute_result",
          "data": {
            "text/plain": [
              "Text(0, 0.5, 'bank account')"
            ]
          },
          "metadata": {
            "tags": []
          },
          "execution_count": 392
        },
        {
          "output_type": "display_data",
          "data": {
            "image/png": "[encoded data removed]",
            "text/plain": [
              "<Figure size 432x288 with 1 Axes>"
            ]
          },
          "metadata": {
            "tags": [],
            "needs_background": "light"
          }
        }
      ]
    },
    {
      "cell_type": "markdown",
      "metadata": {
        "id": "uDBwA6uWEP_n",
        "colab_type": "text"
      },
      "source": [
        "## Challenging the Solution"
      ]
    },
    {
      "cell_type": "markdown",
      "metadata": {
        "id": "LMeYsyEUEVzM",
        "colab_type": "text"
      },
      "source": [
        "From the Analysis, we find that the demographic factors of an individual have a weak correlation to the using/ having a bank account. This is contrary to popular belief hence need for further investigation "
      ]
    },
    {
      "cell_type": "markdown",
      "metadata": {
        "id": "5eI-Zj03E-c1",
        "colab_type": "text"
      },
      "source": [
        "## Follow up questions"
      ]
    },
    {
      "cell_type": "markdown",
      "metadata": {
        "id": "iSj6pTdIFQCF",
        "colab_type": "text"
      },
      "source": [
        "###a) Did we have the right data?"
      ]
    },
    {
      "cell_type": "markdown",
      "metadata": {
        "id": "EjFqw3XbFVWF",
        "colab_type": "text"
      },
      "source": [
        "The data at hand was mostly categorical data which needed to be encoded into numerical data to allow for analysis. This process might not have been the most effective hence we would require better quality of data to be confident about our results"
      ]
    },
    {
      "cell_type": "markdown",
      "metadata": {
        "id": "SHq5X1R1F4Ls",
        "colab_type": "text"
      },
      "source": [
        "###b) Do we need other data to answer our question?\n",
        "\n",
        "\n",
        "```\n",
        "# This is formatted as code\n",
        "```\n",
        "\n"
      ]
    },
    {
      "cell_type": "markdown",
      "metadata": {
        "id": "MW72xPr_GBZq",
        "colab_type": "text"
      },
      "source": [
        "From the results obtained, we do need a more defined dataset to be able to conduct this analysis"
      ]
    },
    {
      "cell_type": "markdown",
      "metadata": {
        "id": "pSiotbKYGME2",
        "colab_type": "text"
      },
      "source": [
        "###c) Did we have the right question?"
      ]
    },
    {
      "cell_type": "markdown",
      "metadata": {
        "id": "Nh4MeOwRGRiN",
        "colab_type": "text"
      },
      "source": [
        "The question about the relationship of the variables is right as it guides us on building a prediction model"
      ]
    },
    {
      "cell_type": "markdown",
      "metadata": {
        "id": "gDwt4Ocyxvsn",
        "colab_type": "text"
      },
      "source": [
        "##MULTIVARIATE ANALYSIS"
      ]
    },
    {
      "cell_type": "markdown",
      "metadata": {
        "id": "jq2zFilVInB_",
        "colab_type": "text"
      },
      "source": [
        "##1. Defining the Question"
      ]
    },
    {
      "cell_type": "markdown",
      "metadata": {
        "id": "C9hoiCt2Iufv",
        "colab_type": "text"
      },
      "source": [
        "###a) Specifying the data analytic question"
      ]
    },
    {
      "cell_type": "markdown",
      "metadata": {
        "id": "fDbB1qUD0kxb",
        "colab_type": "text"
      },
      "source": [
        "Given the financial dataset of a sample of individuals from different countries in East Africa, Predict which individuals are more likely to use/ have a bank account"
      ]
    },
    {
      "cell_type": "markdown",
      "metadata": {
        "id": "1p0WZSVkJRPa",
        "colab_type": "text"
      },
      "source": [
        "###b) Define the Metric for success"
      ]
    },
    {
      "cell_type": "markdown",
      "metadata": {
        "id": "dswlWAPTJaQf",
        "colab_type": "text"
      },
      "source": [
        "A prediction model with at least 80 percent accuracy"
      ]
    },
    {
      "cell_type": "markdown",
      "metadata": {
        "id": "pjVDy7gJJmDj",
        "colab_type": "text"
      },
      "source": [
        "###c) Understanding the context"
      ]
    },
    {
      "cell_type": "markdown",
      "metadata": {
        "id": "pv2dqzZUJqR-",
        "colab_type": "text"
      },
      "source": [
        "Financial inclusion is a metric of economic growth in a country. Access to a bank account is one indicator of financial inclusion. A model to predict which individuals are more likely to use/ have a bank account is important so as to make important decisions that will affect the economic growth of the country through financial inclusion"
      ]
    },
    {
      "cell_type": "markdown",
      "metadata": {
        "id": "HT38hocsLnbR",
        "colab_type": "text"
      },
      "source": [
        "###d) Recording the experimental design"
      ]
    },
    {
      "cell_type": "markdown",
      "metadata": {
        "id": "7yY4Py96Lw1x",
        "colab_type": "text"
      },
      "source": [
        "###e) Data Relevance"
      ]
    },
    {
      "cell_type": "markdown",
      "metadata": {
        "id": "00Rcy8ObL1dP",
        "colab_type": "text"
      },
      "source": [
        "The data at hand is relevant for this analysis as it captures some key demographics about individuals who already have access to a bank account and the individuals who do not have a bank account yet. Hence, it will be possible to build a prediction model with this data"
      ]
    },
    {
      "cell_type": "markdown",
      "metadata": {
        "id": "IOkdYpQXMbxs",
        "colab_type": "text"
      },
      "source": [
        "##Exploratory Analysis"
      ]
    },
    {
      "cell_type": "markdown",
      "metadata": {
        "id": "xvp5i1M7Mjjq",
        "colab_type": "text"
      },
      "source": [
        "###Reduction model using Principle component analysis"
      ]
    },
    {
      "cell_type": "code",
      "metadata": {
        "id": "KcC3gG1Qx2TS",
        "colab_type": "code",
        "colab": {
          "base_uri": "https://localhost:8080/",
          "height": 195
        },
        "outputId": "196866c8-4154-4c90-d284-063c0abb09eb"
      },
      "source": [
        "#previewing our data\n",
        "financialdata_df1.head()"
      ],
      "execution_count": null,
      "outputs": [
        {
          "output_type": "execute_result",
          "data": {
            "text/html": [
              "<div>\n",
              "<style scoped>\n",
              "    .dataframe tbody tr th:only-of-type {\n",
              "        vertical-align: middle;\n",
              "    }\n",
              "\n",
              "    .dataframe tbody tr th {\n",
              "        vertical-align: top;\n",
              "    }\n",
              "\n",
              "    .dataframe thead th {\n",
              "        text-align: right;\n",
              "    }\n",
              "</style>\n",
              "<table border=\"1\" class=\"dataframe\">\n",
              "  <thead>\n",
              "    <tr style=\"text-align: right;\">\n",
              "      <th></th>\n",
              "      <th>has_a_bank_account</th>\n",
              "      <th>type_of_location</th>\n",
              "      <th>cell_phone_access</th>\n",
              "      <th>household_size</th>\n",
              "      <th>respondent_age</th>\n",
              "      <th>gender_of_respondent</th>\n",
              "      <th>level_of_education</th>\n",
              "    </tr>\n",
              "  </thead>\n",
              "  <tbody>\n",
              "    <tr>\n",
              "      <th>0</th>\n",
              "      <td>1</td>\n",
              "      <td>1</td>\n",
              "      <td>1</td>\n",
              "      <td>3.0</td>\n",
              "      <td>24.0</td>\n",
              "      <td>0</td>\n",
              "      <td>2</td>\n",
              "    </tr>\n",
              "    <tr>\n",
              "      <th>1</th>\n",
              "      <td>0</td>\n",
              "      <td>1</td>\n",
              "      <td>0</td>\n",
              "      <td>5.0</td>\n",
              "      <td>70.0</td>\n",
              "      <td>0</td>\n",
              "      <td>0</td>\n",
              "    </tr>\n",
              "    <tr>\n",
              "      <th>2</th>\n",
              "      <td>1</td>\n",
              "      <td>0</td>\n",
              "      <td>1</td>\n",
              "      <td>5.0</td>\n",
              "      <td>26.0</td>\n",
              "      <td>1</td>\n",
              "      <td>3</td>\n",
              "    </tr>\n",
              "    <tr>\n",
              "      <th>3</th>\n",
              "      <td>0</td>\n",
              "      <td>1</td>\n",
              "      <td>1</td>\n",
              "      <td>5.0</td>\n",
              "      <td>34.0</td>\n",
              "      <td>0</td>\n",
              "      <td>1</td>\n",
              "    </tr>\n",
              "    <tr>\n",
              "      <th>4</th>\n",
              "      <td>0</td>\n",
              "      <td>0</td>\n",
              "      <td>0</td>\n",
              "      <td>8.0</td>\n",
              "      <td>26.0</td>\n",
              "      <td>1</td>\n",
              "      <td>1</td>\n",
              "    </tr>\n",
              "  </tbody>\n",
              "</table>\n",
              "</div>"
            ],
            "text/plain": [
              "   has_a_bank_account  ...  level_of_education\n",
              "0                   1  ...                   2\n",
              "1                   0  ...                   0\n",
              "2                   1  ...                   3\n",
              "3                   0  ...                   1\n",
              "4                   0  ...                   1\n",
              "\n",
              "[5 rows x 7 columns]"
            ]
          },
          "metadata": {
            "tags": []
          },
          "execution_count": 421
        }
      ]
    },
    {
      "cell_type": "code",
      "metadata": {
        "id": "KzfmZ1pAy-4L",
        "colab_type": "code",
        "colab": {}
      },
      "source": [
        "# pre-processing step: divide the dataset into a feature set and corresponding labels. \n",
        "X = financialdata_df1.drop('has_a_bank_account', 1)\n",
        "y = financialdata_df1['has_a_bank_account']"
      ],
      "execution_count": null,
      "outputs": []
    },
    {
      "cell_type": "code",
      "metadata": {
        "id": "Hox9dCVH1mhE",
        "colab_type": "code",
        "colab": {
          "base_uri": "https://localhost:8080/",
          "height": 402
        },
        "outputId": "23e7ad88-98bf-4c36-b3b8-679a39e0c037"
      },
      "source": [
        "#calling the feature set\n",
        "X"
      ],
      "execution_count": null,
      "outputs": [
        {
          "output_type": "execute_result",
          "data": {
            "text/html": [
              "<div>\n",
              "<style scoped>\n",
              "    .dataframe tbody tr th:only-of-type {\n",
              "        vertical-align: middle;\n",
              "    }\n",
              "\n",
              "    .dataframe tbody tr th {\n",
              "        vertical-align: top;\n",
              "    }\n",
              "\n",
              "    .dataframe thead th {\n",
              "        text-align: right;\n",
              "    }\n",
              "</style>\n",
              "<table border=\"1\" class=\"dataframe\">\n",
              "  <thead>\n",
              "    <tr style=\"text-align: right;\">\n",
              "      <th></th>\n",
              "      <th>type_of_location</th>\n",
              "      <th>cell_phone_access</th>\n",
              "      <th>household_size</th>\n",
              "      <th>respondent_age</th>\n",
              "      <th>gender_of_respondent</th>\n",
              "      <th>level_of_education</th>\n",
              "    </tr>\n",
              "  </thead>\n",
              "  <tbody>\n",
              "    <tr>\n",
              "      <th>0</th>\n",
              "      <td>1</td>\n",
              "      <td>1</td>\n",
              "      <td>3.0</td>\n",
              "      <td>24.0</td>\n",
              "      <td>0</td>\n",
              "      <td>2</td>\n",
              "    </tr>\n",
              "    <tr>\n",
              "      <th>1</th>\n",
              "      <td>1</td>\n",
              "      <td>0</td>\n",
              "      <td>5.0</td>\n",
              "      <td>70.0</td>\n",
              "      <td>0</td>\n",
              "      <td>0</td>\n",
              "    </tr>\n",
              "    <tr>\n",
              "      <th>2</th>\n",
              "      <td>0</td>\n",
              "      <td>1</td>\n",
              "      <td>5.0</td>\n",
              "      <td>26.0</td>\n",
              "      <td>1</td>\n",
              "      <td>3</td>\n",
              "    </tr>\n",
              "    <tr>\n",
              "      <th>3</th>\n",
              "      <td>1</td>\n",
              "      <td>1</td>\n",
              "      <td>5.0</td>\n",
              "      <td>34.0</td>\n",
              "      <td>0</td>\n",
              "      <td>1</td>\n",
              "    </tr>\n",
              "    <tr>\n",
              "      <th>4</th>\n",
              "      <td>0</td>\n",
              "      <td>0</td>\n",
              "      <td>8.0</td>\n",
              "      <td>26.0</td>\n",
              "      <td>1</td>\n",
              "      <td>1</td>\n",
              "    </tr>\n",
              "    <tr>\n",
              "      <th>...</th>\n",
              "      <td>...</td>\n",
              "      <td>...</td>\n",
              "      <td>...</td>\n",
              "      <td>...</td>\n",
              "      <td>...</td>\n",
              "      <td>...</td>\n",
              "    </tr>\n",
              "    <tr>\n",
              "      <th>23519</th>\n",
              "      <td>1</td>\n",
              "      <td>1</td>\n",
              "      <td>4.0</td>\n",
              "      <td>48.0</td>\n",
              "      <td>0</td>\n",
              "      <td>0</td>\n",
              "    </tr>\n",
              "    <tr>\n",
              "      <th>23520</th>\n",
              "      <td>1</td>\n",
              "      <td>1</td>\n",
              "      <td>2.0</td>\n",
              "      <td>27.0</td>\n",
              "      <td>0</td>\n",
              "      <td>2</td>\n",
              "    </tr>\n",
              "    <tr>\n",
              "      <th>23521</th>\n",
              "      <td>1</td>\n",
              "      <td>1</td>\n",
              "      <td>5.0</td>\n",
              "      <td>27.0</td>\n",
              "      <td>0</td>\n",
              "      <td>1</td>\n",
              "    </tr>\n",
              "    <tr>\n",
              "      <th>23522</th>\n",
              "      <td>0</td>\n",
              "      <td>1</td>\n",
              "      <td>7.0</td>\n",
              "      <td>30.0</td>\n",
              "      <td>0</td>\n",
              "      <td>2</td>\n",
              "    </tr>\n",
              "    <tr>\n",
              "      <th>23523</th>\n",
              "      <td>1</td>\n",
              "      <td>1</td>\n",
              "      <td>10.0</td>\n",
              "      <td>20.0</td>\n",
              "      <td>1</td>\n",
              "      <td>2</td>\n",
              "    </tr>\n",
              "  </tbody>\n",
              "</table>\n",
              "<p>23343 rows × 6 columns</p>\n",
              "</div>"
            ],
            "text/plain": [
              "       type_of_location  ...  level_of_education\n",
              "0                     1  ...                   2\n",
              "1                     1  ...                   0\n",
              "2                     0  ...                   3\n",
              "3                     1  ...                   1\n",
              "4                     0  ...                   1\n",
              "...                 ...  ...                 ...\n",
              "23519                 1  ...                   0\n",
              "23520                 1  ...                   2\n",
              "23521                 1  ...                   1\n",
              "23522                 0  ...                   2\n",
              "23523                 1  ...                   2\n",
              "\n",
              "[23343 rows x 6 columns]"
            ]
          },
          "metadata": {
            "tags": []
          },
          "execution_count": 423
        }
      ]
    },
    {
      "cell_type": "code",
      "metadata": {
        "id": "XQo8Mip2-Miw",
        "colab_type": "code",
        "colab": {}
      },
      "source": [
        "#pre-processing step: convert feature set into training set and test set\n",
        "from sklearn.model_selection import train_test_split\n",
        "\n",
        "X_train, X_test, y_train, y_test = train_test_split(X, y, test_size=0.2, random_state=0)"
      ],
      "execution_count": null,
      "outputs": []
    },
    {
      "cell_type": "code",
      "metadata": {
        "id": "JAoo-WrmBAlB",
        "colab_type": "code",
        "colab": {}
      },
      "source": [
        "#perform standard scalar normalization to normalize our feature set\n",
        "from sklearn.preprocessing import StandardScaler\n",
        "\n",
        "sc = StandardScaler()\n",
        "X_train = sc.fit_transform(X_train)\n",
        "X_test = sc.transform(X_test)"
      ],
      "execution_count": null,
      "outputs": []
    },
    {
      "cell_type": "code",
      "metadata": {
        "id": "1H6O5I_lBccM",
        "colab_type": "code",
        "colab": {}
      },
      "source": [
        "#applying PCA without specifying the number of components\n",
        "from sklearn.decomposition import PCA\n",
        "\n",
        "pca = PCA()\n",
        "X_train = pca.fit_transform(X_train)\n",
        "X_test = pca.transform(X_test)"
      ],
      "execution_count": null,
      "outputs": []
    },
    {
      "cell_type": "code",
      "metadata": {
        "id": "_e3qIGEuB7xc",
        "colab_type": "code",
        "colab": {
          "base_uri": "https://localhost:8080/",
          "height": 50
        },
        "outputId": "c70e8dcb-a5c4-4f8f-9e2a-4be16e1c6d81"
      },
      "source": [
        "#Explained variance ratio\n",
        "explained_variance = pca.explained_variance_ratio_\n",
        "explained_variance"
      ],
      "execution_count": null,
      "outputs": [
        {
          "output_type": "execute_result",
          "data": {
            "text/plain": [
              "array([0.24679324, 0.22091321, 0.17259471, 0.14207623, 0.11388131,\n",
              "       0.1037413 ])"
            ]
          },
          "metadata": {
            "tags": []
          },
          "execution_count": 427
        }
      ]
    },
    {
      "cell_type": "code",
      "metadata": {
        "id": "pZr4zRTkCzEn",
        "colab_type": "code",
        "colab": {}
      },
      "source": [
        "#Using one principle component\n",
        "from sklearn.decomposition import PCA\n",
        "\n",
        "pca = PCA(n_components=1)\n",
        "X_train = pca.fit_transform(X_train)\n",
        "X_test = pca.transform(X_test)\n"
      ],
      "execution_count": null,
      "outputs": []
    },
    {
      "cell_type": "code",
      "metadata": {
        "id": "H-pkQhMwEctU",
        "colab_type": "code",
        "colab": {
          "base_uri": "https://localhost:8080/",
          "height": 34
        },
        "outputId": "756fe1d3-1a32-479b-9597-4cab4d42b348"
      },
      "source": [
        "#Training and making predictions\n",
        "from sklearn.ensemble import RandomForestClassifier\n",
        "\n",
        "classifier = RandomForestClassifier(max_depth=2, random_state=0)\n",
        "classifier.fit(X_train, y_train)\n",
        "\n",
        "#making predictions\n",
        "y_pred = classifier.predict(X_test)\n",
        "y_pred"
      ],
      "execution_count": null,
      "outputs": [
        {
          "output_type": "execute_result",
          "data": {
            "text/plain": [
              "array([0, 0, 0, ..., 0, 0, 0])"
            ]
          },
          "metadata": {
            "tags": []
          },
          "execution_count": 429
        }
      ]
    },
    {
      "cell_type": "code",
      "metadata": {
        "id": "9peF26VlEzVQ",
        "colab_type": "code",
        "colab": {
          "base_uri": "https://localhost:8080/",
          "height": 67
        },
        "outputId": "79c808cb-f800-4b9e-caa6-6159858130c5"
      },
      "source": [
        "#Performance Evaluation\n",
        "# \n",
        "from sklearn.metrics import confusion_matrix\n",
        "from sklearn.metrics import accuracy_score\n",
        "\n",
        "cm = confusion_matrix(y_test, y_pred)\n",
        "print(cm)\n",
        "print('Accuracy' , accuracy_score(y_test, y_pred))\n",
        "#our model indicates 0.85 accuaracy using one pca hence we are 85% confident that our model is correct"
      ],
      "execution_count": null,
      "outputs": [
        {
          "output_type": "stream",
          "text": [
            "[[4008    0]\n",
            " [ 661    0]]\n",
            "Accuracy 0.8584279288926965\n"
          ],
          "name": "stdout"
        }
      ]
    },
    {
      "cell_type": "code",
      "metadata": {
        "id": "cBb-qlzjFcIv",
        "colab_type": "code",
        "colab": {
          "base_uri": "https://localhost:8080/",
          "height": 151
        },
        "outputId": "a6813a6b-9755-4cb2-949e-e4d81fba69fc"
      },
      "source": [
        "#using two principle components\n",
        "\n",
        "X_train, X_test, y_train, y_test = train_test_split(X, y, test_size=0.2, random_state=0)\n",
        "\n",
        "sc = StandardScaler()\n",
        "X_train = sc.fit_transform(X_train)\n",
        "X_test = sc.transform(X_test)\n",
        "\n",
        "pca = PCA(n_components=3)\n",
        "X_train = pca.fit_transform(X_train)\n",
        "X_test = pca.transform(X_test)\n",
        "\n",
        "# With three principal components the classification accuracy should again increase to 93.33%\n",
        "classifier = RandomForestClassifier(max_depth=2, random_state=0)\n",
        "classifier.fit(X_train, y_train)"
      ],
      "execution_count": null,
      "outputs": [
        {
          "output_type": "execute_result",
          "data": {
            "text/plain": [
              "RandomForestClassifier(bootstrap=True, ccp_alpha=0.0, class_weight=None,\n",
              "                       criterion='gini', max_depth=2, max_features='auto',\n",
              "                       max_leaf_nodes=None, max_samples=None,\n",
              "                       min_impurity_decrease=0.0, min_impurity_split=None,\n",
              "                       min_samples_leaf=1, min_samples_split=2,\n",
              "                       min_weight_fraction_leaf=0.0, n_estimators=100,\n",
              "                       n_jobs=None, oob_score=False, random_state=0, verbose=0,\n",
              "                       warm_start=False)"
            ]
          },
          "metadata": {
            "tags": []
          },
          "execution_count": 431
        }
      ]
    },
    {
      "cell_type": "code",
      "metadata": {
        "id": "8N8l-1aJIcBw",
        "colab_type": "code",
        "colab": {
          "base_uri": "https://localhost:8080/",
          "height": 67
        },
        "outputId": "03e4d9d9-a3a1-4927-95aa-0124a7d85e9d"
      },
      "source": [
        "# Predicting the Test set results\n",
        "y_pred = classifier.predict(X_test)\n",
        "\n",
        "cm = confusion_matrix(y_test, y_pred)\n",
        "print(cm)\n",
        "print('Accuracy' , accuracy_score(y_test, y_pred))\n",
        "#using two pca, the accuracy of our model barely changes "
      ],
      "execution_count": null,
      "outputs": [
        {
          "output_type": "stream",
          "text": [
            "[[4008    0]\n",
            " [ 661    0]]\n",
            "Accuracy 0.8584279288926965\n"
          ],
          "name": "stdout"
        }
      ]
    },
    {
      "cell_type": "code",
      "metadata": {
        "id": "lmCnemjGINR9",
        "colab_type": "code",
        "colab": {
          "base_uri": "https://localhost:8080/",
          "height": 151
        },
        "outputId": "624030ea-ac55-4fd8-a12d-42edcae12cbe"
      },
      "source": [
        "#using three principle components\n",
        "X_train, X_test, y_train, y_test = train_test_split(X, y, test_size=0.2, random_state=0)\n",
        "\n",
        "sc = StandardScaler()\n",
        "X_train = sc.fit_transform(X_train)\n",
        "X_test = sc.transform(X_test)\n",
        "\n",
        "pca = PCA(n_components=3)\n",
        "X_train = pca.fit_transform(X_train)\n",
        "X_test = pca.transform(X_test)\n",
        "\n",
        "classifier = RandomForestClassifier(max_depth=2, random_state=0)\n",
        "classifier.fit(X_train, y_train)"
      ],
      "execution_count": null,
      "outputs": [
        {
          "output_type": "execute_result",
          "data": {
            "text/plain": [
              "RandomForestClassifier(bootstrap=True, ccp_alpha=0.0, class_weight=None,\n",
              "                       criterion='gini', max_depth=2, max_features='auto',\n",
              "                       max_leaf_nodes=None, max_samples=None,\n",
              "                       min_impurity_decrease=0.0, min_impurity_split=None,\n",
              "                       min_samples_leaf=1, min_samples_split=2,\n",
              "                       min_weight_fraction_leaf=0.0, n_estimators=100,\n",
              "                       n_jobs=None, oob_score=False, random_state=0, verbose=0,\n",
              "                       warm_start=False)"
            ]
          },
          "metadata": {
            "tags": []
          },
          "execution_count": 434
        }
      ]
    },
    {
      "cell_type": "code",
      "metadata": {
        "id": "VpcL-EhBIVpH",
        "colab_type": "code",
        "colab": {
          "base_uri": "https://localhost:8080/",
          "height": 67
        },
        "outputId": "f7518af5-ae75-4b14-a651-259d62243ae6"
      },
      "source": [
        "# Predicting the Test set results\n",
        "y_pred = classifier.predict(X_test)\n",
        "\n",
        "cm = confusion_matrix(y_test, y_pred)\n",
        "print(cm)\n",
        "print('Accuracy' , accuracy_score(y_test, y_pred))"
      ],
      "execution_count": null,
      "outputs": [
        {
          "output_type": "stream",
          "text": [
            "[[4008    0]\n",
            " [ 661    0]]\n",
            "Accuracy 0.8584279288926965\n"
          ],
          "name": "stdout"
        }
      ]
    },
    {
      "cell_type": "markdown",
      "metadata": {
        "id": "ze13ULmYMw60",
        "colab_type": "text"
      },
      "source": [
        "##Implementing the Solution"
      ]
    },
    {
      "cell_type": "code",
      "metadata": {
        "id": "n9W_sCrUIlDe",
        "colab_type": "code",
        "colab": {}
      },
      "source": [
        "y_pred"
      ],
      "execution_count": null,
      "outputs": []
    },
    {
      "cell_type": "markdown",
      "metadata": {
        "id": "pLGS80gKNBj3",
        "colab_type": "text"
      },
      "source": [
        "###Challenging the Solution"
      ]
    },
    {
      "cell_type": "markdown",
      "metadata": {
        "id": "-hSU5XFnNF6r",
        "colab_type": "text"
      },
      "source": [
        "The prediction model is 85% accurate using one, two and three components. However, probably using a different technique would increase the level of accuracy"
      ]
    },
    {
      "cell_type": "markdown",
      "metadata": {
        "id": "96bW5P5QNvk1",
        "colab_type": "text"
      },
      "source": [
        "###Follow up questions"
      ]
    },
    {
      "cell_type": "markdown",
      "metadata": {
        "id": "36jp7CGvNzxD",
        "colab_type": "text"
      },
      "source": [
        "####a)Did we have the right data?"
      ]
    },
    {
      "cell_type": "markdown",
      "metadata": {
        "id": "7YDqCh63N4PT",
        "colab_type": "text"
      },
      "source": [
        "The data was sufficient to make an analysis, however, we had to encode most of the most important variables for this analysis into o's and 1's. This process might not have been the most efficient to conduct this analysis."
      ]
    },
    {
      "cell_type": "markdown",
      "metadata": {
        "id": "33yegxJTOd9O",
        "colab_type": "text"
      },
      "source": [
        "####b)Do we need other data to answer our question?"
      ]
    },
    {
      "cell_type": "markdown",
      "metadata": {
        "id": "TWyCMa4COrPh",
        "colab_type": "text"
      },
      "source": [
        "The data we had was enough but it would better had the data actually been captured in the correct format to use"
      ]
    },
    {
      "cell_type": "markdown",
      "metadata": {
        "id": "8x65el6mPSIN",
        "colab_type": "text"
      },
      "source": [
        "####c)Did we have the right question?"
      ]
    },
    {
      "cell_type": "markdown",
      "metadata": {
        "id": "OxLGyzhcPXrL",
        "colab_type": "text"
      },
      "source": [
        "The question was good to conduct an appropriate analysis of financial inclusion"
      ]
    }
  ]
}